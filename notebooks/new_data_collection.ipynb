{
 "cells": [
  {
   "metadata": {},
   "cell_type": "markdown",
   "source": "# THU THẬP DỮ LIỆU MỚI",
   "id": "71a15f8c128fe9d9"
  },
  {
   "metadata": {},
   "cell_type": "markdown",
   "source": [
    "Mục tiêu của notebook này là thu thập dữ liệu từ các sàn giao dịch tiền điện tử.  \n",
    "Bao gồm Binance, Coinbase, KuCoin, và Kraken. \n"
   ],
   "id": "9cef394aa5ba6932"
  },
  {
   "metadata": {},
   "cell_type": "markdown",
   "source": [
    "## CẤU TRÚC NOTEBOOK\n",
    "1. **Kết nối API từ các sàn giao dịch**:  \n",
    "   Lấy danh sách các cặp giao dịch chính từ API.\n",
    "\n",
    "2. **Thu thập dữ liệu**:  \n",
    "   Gọi API để thu thập thông tin lịch sử (lịch sử giá, khối lượng, v.v.).\n",
    "\n",
    "3. **Lưu trữ dữ liệu**:  \n",
    "   Lưu dữ liệu thô từ mỗi sàn vào thư mục tương ứng."
   ],
   "id": "cc632217501b66a8"
  },
  {
   "metadata": {},
   "cell_type": "markdown",
   "source": "#### Khai báo thư viện",
   "id": "9775e73556f89f20"
  },
  {
   "metadata": {
    "ExecuteTime": {
     "end_time": "2024-11-29T06:21:52.955527Z",
     "start_time": "2024-11-29T06:21:52.937558Z"
    }
   },
   "cell_type": "code",
   "source": [
    "import os\n",
    "import requests\n",
    "import pandas as pd\n",
    "import time"
   ],
   "id": "2399a727b3bcfdc9",
   "outputs": [],
   "execution_count": 54
  },
  {
   "metadata": {},
   "cell_type": "markdown",
   "source": "#### Khai báo đường dẫn",
   "id": "558068bd8a2aadbb"
  },
  {
   "metadata": {},
   "cell_type": "code",
   "outputs": [],
   "execution_count": null,
   "source": "base_dir = \"../data/new_data/raw\"",
   "id": "d82954ba1c336edf"
  },
  {
   "metadata": {},
   "cell_type": "markdown",
   "source": [
    "### Kết nối API từ các sàn giao dịch\n",
    "Chúng ta sử dụng các API chính thức từ các sàn giao dịch để lấy danh sách cặp giao dịch.\n",
    "\n",
    "Ví dụ: Với Binance, chúng ta gọi API `/api/v3/exchangeInfo` để lấy danh sách các cặp giao dịch đang hoạt động.\n"
   ],
   "id": "5f35f736c9e17c56"
  },
  {
   "metadata": {
    "ExecuteTime": {
     "end_time": "2024-11-29T06:21:52.993276Z",
     "start_time": "2024-11-29T06:21:52.967936Z"
    }
   },
   "cell_type": "code",
   "source": [
    "# Lấy danh sách cặp giao dịch từ Binance\n",
    "def get_binance_pairs():\n",
    "    url = \"https://api.binance.com/api/v3/exchangeInfo\"\n",
    "    response = requests.get(url)\n",
    "    data = response.json()\n",
    "    pairs = [symbol[\"symbol\"] for symbol in data[\"symbols\"] if symbol[\"status\"] == \"TRADING\"]\n",
    "    return pairs[:20]  # Chọn 20 cặp đầu tiên (hoặc thay đổi tiêu chí)\n",
    "\n",
    "# Lấy danh sách cặp giao dịch từ Coinbase\n",
    "def get_coinbase_pairs():\n",
    "    url = \"https://api.exchange.coinbase.com/products\"\n",
    "    response = requests.get(url)\n",
    "    data = response.json()\n",
    "    pairs = [product[\"id\"] for product in data]\n",
    "    return pairs[:20]  # Chọn 20 cặp đầu tiên\n",
    "\n",
    "# Lấy danh sách cặp giao dịch từ KuCoin\n",
    "def get_kucoin_pairs():\n",
    "    url = \"https://api.kucoin.com/api/v1/symbols\"\n",
    "    response = requests.get(url)\n",
    "    data = response.json()\n",
    "    pairs = [symbol[\"symbol\"] for symbol in data[\"data\"] if symbol[\"enableTrading\"]]\n",
    "    return pairs[:20]  # Chọn 20 cặp đầu tiên\n",
    "\n",
    "# Lấy danh sách cặp giao dịch từ Kraken\n",
    "def get_kraken_pairs():\n",
    "    url = \"https://api.kraken.com/0/public/AssetPairs\"\n",
    "    response = requests.get(url)\n",
    "    data = response.json()\n",
    "    pairs = list(data[\"result\"].keys())\n",
    "    return pairs[:20]  # Chọn 20 cặp đầu tiên"
   ],
   "id": "2ffe08a24a69e9ab",
   "outputs": [],
   "execution_count": 55
  },
  {
   "metadata": {},
   "cell_type": "markdown",
   "source": "#### Gọi hàm để thu thập các cặp giao dịch",
   "id": "61b350eca4c90456"
  },
  {
   "metadata": {},
   "cell_type": "code",
   "outputs": [],
   "execution_count": null,
   "source": [
    "binance_pairs = get_binance_pairs()\n",
    "coinbase_pairs = get_coinbase_pairs()\n",
    "kucoin_pairs = get_kucoin_pairs()\n",
    "kraken_pairs = get_kraken_pairs()\n",
    "\n",
    "# Kiểm tra danh sách\n",
    "print(f\"Binance pairs: {binance_pairs}\")\n",
    "print(f\"Coinbase pairs: {coinbase_pairs}\")\n",
    "print(f\"KuCoin pairs: {kucoin_pairs}\")\n",
    "print(f\"Kraken pairs: {kraken_pairs}\")\n"
   ],
   "id": "30d0a1208aa0de93"
  },
  {
   "metadata": {},
   "cell_type": "markdown",
   "source": [
    "### 2. Thu thập dữ liệu từ các cặp giao dịch\n",
    "Sau khi lấy được danh sách cặp giao dịch, chúng ta sử dụng hàm `fetch_top_pairs_data()` để lấy dữ liệu lịch sử giao dịch của từng cặp. \n"
   ],
   "id": "98eee4e2cea97613"
  },
  {
   "metadata": {},
   "cell_type": "markdown",
   "source": "#### Hàm thu thập thông tin giao dịch từ sàn Binance",
   "id": "205e59893828a0d4"
  },
  {
   "cell_type": "code",
   "id": "initial_id",
   "metadata": {
    "collapsed": true,
    "ExecuteTime": {
     "end_time": "2024-11-29T06:21:53.025590Z",
     "start_time": "2024-11-29T06:21:53.014310Z"
    }
   },
   "source": [
    "def fetch_binance_klines(symbol, interval='1h', limit=1000):\n",
    "    url = \"https://api.binance.com/api/v3/klines\"\n",
    "\n",
    "    params = {\n",
    "        \"symbol\": symbol,\n",
    "        \"interval\": interval,\n",
    "        \"limit\": limit\n",
    "    }\n",
    "\n",
    "    response = requests.get(url, params=params)\n",
    "    data = response.json()\n",
    "\n",
    "    if not data or isinstance(data, dict):  # Trường hợp lỗi hoặc không có dữ liệu\n",
    "        print(f\"No data or error for {symbol} from Binance: {data}\")\n",
    "        return pd.DataFrame()\n",
    "\n",
    "    df = pd.DataFrame(data, columns=[\n",
    "        \"time\", \"open\", \"high\", \"low\", \"close\", \"volume\", \"close_time\", \"quote_asset_volume\",\n",
    "        \"number_of_trades\", \"taker_buy_base\", \"taker_buy_quote\", \"ignore\"\n",
    "    ])\n",
    "    df[\"time\"] = pd.to_datetime(df[\"time\"], unit=\"ms\")\n",
    "    df[\"pair\"] = symbol[:-3] + \"-\" + symbol[-3:] \n",
    "    df[\"exchange\"] = \"Binance\"\n",
    "    return df[[\"time\", \"open\", \"high\", \"low\", \"close\", \"volume\", \"pair\", \"exchange\"]][:100] \n"
   ],
   "outputs": [],
   "execution_count": 56
  },
  {
   "metadata": {},
   "cell_type": "markdown",
   "source": "#### Hàm thu thập thông tin giao dịch từ sàn Coinbase",
   "id": "266b10d2840564c"
  },
  {
   "metadata": {
    "ExecuteTime": {
     "end_time": "2024-11-29T06:21:53.046497Z",
     "start_time": "2024-11-29T06:21:53.040033Z"
    }
   },
   "cell_type": "code",
   "source": [
    "def fetch_coinbase_klines(symbol, interval='1h', limit=1000):\n",
    "    url = f\"https://api.exchange.coinbase.com/products/{symbol}/candles\"\n",
    "    params = {\"granularity\": 3600}  # 1h\n",
    "\n",
    "    response = requests.get(url, params=params)\n",
    "    data = response.json()\n",
    "\n",
    "    if not data or isinstance(data, dict):  # Trường hợp lỗi hoặc không có dữ liệu\n",
    "        print(f\"No data or error for {symbol} from Coinbase: {data}\")\n",
    "        return pd.DataFrame()\n",
    "\n",
    "    df = pd.DataFrame(data, columns=[\"time\", \"low\", \"high\", \"open\", \"close\", \"volume\"])\n",
    "    df[\"time\"] = pd.to_datetime(df[\"time\"], unit=\"s\")\n",
    "    df[\"pair\"] = symbol  # Pair đã định dạng sẵn từ Coinbase (ví dụ: BTC-USD)\n",
    "    df[\"exchange\"] = \"Coinbase\"\n",
    "    return df[[\"time\", \"open\", \"high\", \"low\", \"close\", \"volume\", \"pair\", \"exchange\"]][:100] \n"
   ],
   "id": "6cc3df62611dc3bf",
   "outputs": [],
   "execution_count": 57
  },
  {
   "metadata": {},
   "cell_type": "markdown",
   "source": "#### Hàm thu thập thông tin giao dịch từ sàn KuCoin",
   "id": "aedb9c320dba42b2"
  },
  {
   "metadata": {
    "ExecuteTime": {
     "end_time": "2024-11-29T06:21:53.066964Z",
     "start_time": "2024-11-29T06:21:53.059029Z"
    }
   },
   "cell_type": "code",
   "source": [
    "def fetch_kucoin_klines(symbol, interval='1hour', limit=1000):\n",
    "    url = \"https://api.kucoin.com/api/v1/market/candles\"\n",
    "    params = {\"symbol\": symbol, \"type\": interval}\n",
    "\n",
    "    response = requests.get(url, params=params)\n",
    "    data = response.json()\n",
    "\n",
    "    if \"data\" not in data or not data[\"data\"]:\n",
    "        print(f\"No data or error for {symbol} from KuCoin: {data}\")\n",
    "        return pd.DataFrame()\n",
    "\n",
    "    df = pd.DataFrame(data[\"data\"], columns=[\"time\", \"open\", \"close\", \"high\", \"low\", \"volume\", \"close_time\"])\n",
    "    # Chuyển đổi cột `time` thành Unix timestamp (nếu chưa phải kiểu số)\n",
    "    if df[\"time\"].dtype == \"object\":  # Nếu `time` là chuỗi\n",
    "        df[\"time\"] = df[\"time\"].astype(float).astype(int)\n",
    "    df[\"time\"] = pd.to_datetime(df[\"time\"], unit=\"s\")\n",
    "    df[\"pair\"] = symbol\n",
    "    df[\"exchange\"] = \"KuCoin\"\n",
    "    return df[[\"time\", \"open\", \"high\", \"low\", \"close\", \"volume\", \"pair\", \"exchange\"]][:100]\n"
   ],
   "id": "8bb29290489e5bc7",
   "outputs": [],
   "execution_count": 58
  },
  {
   "metadata": {},
   "cell_type": "markdown",
   "source": "#### Hàm thu thập thông tin giao dịch từ sàn Kraken",
   "id": "b750f3cbb71752a3"
  },
  {
   "metadata": {
    "ExecuteTime": {
     "end_time": "2024-11-29T06:21:53.098280Z",
     "start_time": "2024-11-29T06:21:53.088499Z"
    }
   },
   "cell_type": "code",
   "source": [
    "def fetch_kraken_klines(symbol, interval='60', limit=1000):\n",
    "    url = \"https://api.kraken.com/0/public/OHLC\"\n",
    "    params = {\"pair\": symbol, \"interval\": interval}\n",
    "\n",
    "    response = requests.get(url, params=params)\n",
    "    data = response.json()\n",
    "\n",
    "    if \"result\" not in data or symbol not in data[\"result\"]:\n",
    "        print(f\"No data or error for {symbol} from Kraken: {data}\")\n",
    "        return pd.DataFrame()\n",
    "\n",
    "    df = pd.DataFrame(data[\"result\"][symbol], columns=[\n",
    "        \"time\", \"open\", \"high\", \"low\", \"close\", \"volume\", \"ignore1\", \"ignore2\"\n",
    "    ])\n",
    "    df[\"time\"] = pd.to_datetime(df[\"time\"], unit=\"s\")\n",
    "    df[\"pair\"] = symbol[:-3] + \"-\" + symbol[-3:]\n",
    "    df[\"exchange\"] = \"Kraken\"\n",
    "    return df[[\"time\", \"open\", \"high\", \"low\", \"close\", \"volume\", \"pair\", \"exchange\"]][:100] \n"
   ],
   "id": "e069aebdea17b283",
   "outputs": [],
   "execution_count": 59
  },
  {
   "metadata": {},
   "cell_type": "markdown",
   "source": [
    "### 3. Lưu trữ dữ liệu\n",
    "Dữ liệu từ mỗi sàn sẽ được lưu trữ dưới dạng file CSV trong thư mục `data/new_data/raw/<exchange_name>`.\n",
    "\n",
    "Ví dụ:\n",
    "- `data/new_data/raw/binance/binance.csv`\n",
    "- `data/new_data/raw/coinbase/coinbase.csv`\n"
   ],
   "id": "46942c56ecfb1c23"
  },
  {
   "metadata": {
    "ExecuteTime": {
     "end_time": "2024-11-29T06:21:56.460965Z",
     "start_time": "2024-11-29T06:21:56.447838Z"
    }
   },
   "cell_type": "code",
   "source": [
    "# Hàm thu thập dữ liệu từ các cặp giao dịch chính\n",
    "def fetch_data_for_top_pairs(exchange, pairs, fetch_func, limit=1000):\n",
    "    all_data = []\n",
    "\n",
    "    for pair in pairs:\n",
    "        print(f\"Fetching data for {pair} from {exchange}...\")\n",
    "        try:\n",
    "            data = fetch_func(pair, limit=limit)\n",
    "            if not data.empty:\n",
    "                all_data.append(data)\n",
    "                print(f\"Collected {len(data)} rows for {pair}.\")\n",
    "        except Exception as e:\n",
    "            print(f\"Error fetching data for {pair} from {exchange}: {e}\")\n",
    "\n",
    "    # Gộp tất cả dữ liệu\n",
    "    all_data = pd.concat(all_data, ignore_index=True) if all_data else pd.DataFrame()\n",
    "    return all_data\n"
   ],
   "id": "1322f505c6b35c9a",
   "outputs": [],
   "execution_count": 61
  },
  {
   "metadata": {
    "ExecuteTime": {
     "end_time": "2024-11-29T06:21:56.493971Z",
     "start_time": "2024-11-29T06:21:56.483058Z"
    }
   },
   "cell_type": "code",
   "source": [
    "# Hàm gọi lời thu thập và lưu trữ giữ liệu\n",
    "def fetch_top_pairs_data():\n",
    "    for exchange, pairs, fetch_func in [\n",
    "        (\"Binance\", binance_pairs, fetch_binance_klines),\n",
    "        (\"Coinbase\", coinbase_pairs, fetch_coinbase_klines),\n",
    "        (\"KuCoin\", kucoin_pairs, fetch_kucoin_klines),\n",
    "        (\"Kraken\", kraken_pairs, fetch_kraken_klines),\n",
    "    ]:\n",
    "        print(f\"Collecting data for {exchange}...\")\n",
    "        data = fetch_data_for_top_pairs(exchange, pairs, fetch_func, limit=1000)\n",
    "        \n",
    "        # Lưu dữ liệu nếu có\n",
    "        if not data.empty:\n",
    "            file_path = f\"{base_dir}/{exchange.lower()}/{exchange.lower()}.csv\"\n",
    "            data.to_csv(file_path, index=False)\n",
    "            print(f\"Saved data for {exchange} to {file_path}.\")\n",
    "        else:\n",
    "            print(f\"No data collected for {exchange}.\")\n"
   ],
   "id": "17b6a198eae84b5e",
   "outputs": [],
   "execution_count": 62
  },
  {
   "metadata": {},
   "cell_type": "markdown",
   "source": "#### Gọi hàm",
   "id": "49ac27d657b9b7a7"
  },
  {
   "metadata": {
    "ExecuteTime": {
     "end_time": "2024-11-29T06:22:51.036928Z",
     "start_time": "2024-11-29T06:21:56.520752Z"
    }
   },
   "cell_type": "code",
   "source": "fetch_top_pairs_data()",
   "id": "2004a40586c355a2",
   "outputs": [
    {
     "name": "stdout",
     "output_type": "stream",
     "text": [
      "Collecting data for Binance...\n",
      "Fetching data for ETHBTC from Binance...\n",
      "Collected 100 rows for ETHBTC.\n",
      "Fetching data for LTCBTC from Binance...\n",
      "Collected 100 rows for LTCBTC.\n",
      "Fetching data for BNBBTC from Binance...\n",
      "Collected 100 rows for BNBBTC.\n",
      "Fetching data for NEOBTC from Binance...\n",
      "Collected 100 rows for NEOBTC.\n",
      "Fetching data for QTUMETH from Binance...\n",
      "Collected 100 rows for QTUMETH.\n",
      "Fetching data for EOSETH from Binance...\n",
      "Collected 100 rows for EOSETH.\n",
      "Fetching data for SNTETH from Binance...\n",
      "Collected 100 rows for SNTETH.\n",
      "Fetching data for BNTETH from Binance...\n",
      "Collected 100 rows for BNTETH.\n",
      "Fetching data for GASBTC from Binance...\n",
      "Collected 100 rows for GASBTC.\n",
      "Fetching data for BNBETH from Binance...\n",
      "Collected 100 rows for BNBETH.\n",
      "Fetching data for BTCUSDT from Binance...\n",
      "Collected 100 rows for BTCUSDT.\n",
      "Fetching data for ETHUSDT from Binance...\n",
      "Collected 100 rows for ETHUSDT.\n",
      "Fetching data for LRCBTC from Binance...\n",
      "Collected 100 rows for LRCBTC.\n",
      "Fetching data for LRCETH from Binance...\n",
      "Collected 100 rows for LRCETH.\n",
      "Fetching data for QTUMBTC from Binance...\n",
      "Collected 100 rows for QTUMBTC.\n",
      "Fetching data for ZRXBTC from Binance...\n",
      "Collected 100 rows for ZRXBTC.\n",
      "Fetching data for KNCBTC from Binance...\n",
      "Collected 100 rows for KNCBTC.\n",
      "Fetching data for IOTABTC from Binance...\n",
      "Collected 100 rows for IOTABTC.\n",
      "Fetching data for IOTAETH from Binance...\n",
      "Collected 100 rows for IOTAETH.\n",
      "Fetching data for LINKBTC from Binance...\n",
      "Collected 100 rows for LINKBTC.\n",
      "Saved data for Binance to ../data/new_data/raw/binance/binance.csv.\n",
      "Collecting data for Coinbase...\n",
      "Fetching data for RLC-USD from Coinbase...\n",
      "Collected 100 rows for RLC-USD.\n",
      "Fetching data for COVAL-USDT from Coinbase...\n",
      "Collected 100 rows for COVAL-USDT.\n",
      "Fetching data for SUKU-USD from Coinbase...\n",
      "Collected 100 rows for SUKU-USD.\n",
      "Fetching data for HFT-USDT from Coinbase...\n",
      "Collected 100 rows for HFT-USDT.\n",
      "Fetching data for OGN-USD from Coinbase...\n",
      "Collected 100 rows for OGN-USD.\n",
      "Fetching data for DAR-USD from Coinbase...\n",
      "Collected 100 rows for DAR-USD.\n",
      "Fetching data for NEAR-USDT from Coinbase...\n",
      "Collected 100 rows for NEAR-USDT.\n",
      "Fetching data for SYLO-USD from Coinbase...\n",
      "Collected 100 rows for SYLO-USD.\n",
      "Fetching data for FORT-USD from Coinbase...\n",
      "Collected 100 rows for FORT-USD.\n",
      "Fetching data for WAMPL-USD from Coinbase...\n",
      "Collected 100 rows for WAMPL-USD.\n",
      "Fetching data for LCX-USD from Coinbase...\n",
      "Collected 100 rows for LCX-USD.\n",
      "Fetching data for MDT-USDT from Coinbase...\n",
      "Collected 100 rows for MDT-USDT.\n",
      "Fetching data for DIMO-USD from Coinbase...\n",
      "Collected 100 rows for DIMO-USD.\n",
      "Fetching data for SYN-USD from Coinbase...\n",
      "Collected 100 rows for SYN-USD.\n",
      "Fetching data for MATIC-BTC from Coinbase...\n",
      "Collected 100 rows for MATIC-BTC.\n",
      "Fetching data for ANKR-EUR from Coinbase...\n",
      "Collected 100 rows for ANKR-EUR.\n",
      "Fetching data for MPL-USD from Coinbase...\n",
      "Collected 100 rows for MPL-USD.\n",
      "Fetching data for CLV-GBP from Coinbase...\n",
      "Collected 100 rows for CLV-GBP.\n",
      "Fetching data for POND-USDT from Coinbase...\n",
      "Collected 100 rows for POND-USDT.\n",
      "Fetching data for INV-USD from Coinbase...\n",
      "Collected 100 rows for INV-USD.\n",
      "Saved data for Coinbase to ../data/new_data/raw/coinbase/coinbase.csv.\n",
      "Collecting data for KuCoin...\n",
      "Fetching data for AVA-USDT from KuCoin...\n",
      "Collected 100 rows for AVA-USDT.\n",
      "Fetching data for FET-BTC from KuCoin...\n",
      "Collected 100 rows for FET-BTC.\n",
      "Fetching data for FET-ETH from KuCoin...\n",
      "Collected 100 rows for FET-ETH.\n",
      "Fetching data for ANKR-BTC from KuCoin...\n",
      "Collected 99 rows for ANKR-BTC.\n",
      "Fetching data for XMR-BTC from KuCoin...\n",
      "Collected 100 rows for XMR-BTC.\n",
      "Fetching data for XMR-ETH from KuCoin...\n",
      "Collected 100 rows for XMR-ETH.\n",
      "Fetching data for MTV-BTC from KuCoin...\n",
      "Collected 100 rows for MTV-BTC.\n",
      "Fetching data for MTV-ETH from KuCoin...\n",
      "Collected 100 rows for MTV-ETH.\n",
      "Fetching data for CRO-BTC from KuCoin...\n",
      "Collected 100 rows for CRO-BTC.\n",
      "Fetching data for MTV-USDT from KuCoin...\n",
      "Collected 100 rows for MTV-USDT.\n",
      "Fetching data for KMD-USDT from KuCoin...\n",
      "Collected 100 rows for KMD-USDT.\n",
      "Fetching data for TEL-USDT from KuCoin...\n",
      "Collected 100 rows for TEL-USDT.\n",
      "Fetching data for TT-USDT from KuCoin...\n",
      "Collected 100 rows for TT-USDT.\n",
      "Fetching data for AERGO-USDT from KuCoin...\n",
      "Collected 100 rows for AERGO-USDT.\n",
      "Fetching data for XMR-USDT from KuCoin...\n",
      "Collected 100 rows for XMR-USDT.\n",
      "Fetching data for TRX-KCS from KuCoin...\n",
      "Collected 99 rows for TRX-KCS.\n",
      "Fetching data for ATOM-BTC from KuCoin...\n",
      "Collected 99 rows for ATOM-BTC.\n",
      "Fetching data for ATOM-ETH from KuCoin...\n",
      "Collected 100 rows for ATOM-ETH.\n",
      "Fetching data for ATOM-USDT from KuCoin...\n",
      "Collected 100 rows for ATOM-USDT.\n",
      "Fetching data for ATOM-KCS from KuCoin...\n",
      "Collected 100 rows for ATOM-KCS.\n",
      "Saved data for KuCoin to ../data/new_data/raw/kucoin/kucoin.csv.\n",
      "Collecting data for Kraken...\n",
      "Fetching data for 1INCHEUR from Kraken...\n",
      "Collected 100 rows for 1INCHEUR.\n",
      "Fetching data for 1INCHUSD from Kraken...\n",
      "Collected 100 rows for 1INCHUSD.\n",
      "Fetching data for AAVEETH from Kraken...\n",
      "Collected 100 rows for AAVEETH.\n",
      "Fetching data for AAVEEUR from Kraken...\n",
      "Collected 100 rows for AAVEEUR.\n",
      "Fetching data for AAVEGBP from Kraken...\n",
      "Collected 100 rows for AAVEGBP.\n",
      "Fetching data for AAVEUSD from Kraken...\n",
      "Collected 100 rows for AAVEUSD.\n",
      "Fetching data for AAVEXBT from Kraken...\n",
      "Collected 100 rows for AAVEXBT.\n",
      "Fetching data for ACAEUR from Kraken...\n",
      "Collected 100 rows for ACAEUR.\n",
      "Fetching data for ACAUSD from Kraken...\n",
      "Collected 100 rows for ACAUSD.\n",
      "Fetching data for ACHEUR from Kraken...\n",
      "Collected 100 rows for ACHEUR.\n",
      "Fetching data for ACHUSD from Kraken...\n",
      "Collected 100 rows for ACHUSD.\n",
      "Fetching data for ADAAUD from Kraken...\n",
      "Collected 100 rows for ADAAUD.\n",
      "Fetching data for ADAETH from Kraken...\n",
      "Collected 100 rows for ADAETH.\n",
      "Fetching data for ADAEUR from Kraken...\n",
      "Collected 100 rows for ADAEUR.\n",
      "Fetching data for ADAGBP from Kraken...\n",
      "Collected 100 rows for ADAGBP.\n",
      "Fetching data for ADAUSD from Kraken...\n",
      "Collected 100 rows for ADAUSD.\n",
      "Fetching data for ADAUSDT from Kraken...\n",
      "Collected 100 rows for ADAUSDT.\n",
      "Fetching data for ADAXBT from Kraken...\n",
      "Collected 100 rows for ADAXBT.\n",
      "Fetching data for ADXEUR from Kraken...\n",
      "Collected 100 rows for ADXEUR.\n",
      "Fetching data for ADXUSD from Kraken...\n",
      "Collected 100 rows for ADXUSD.\n",
      "Saved data for Kraken to ../data/new_data/raw/kraken/kraken.csv.\n"
     ]
    }
   ],
   "execution_count": 63
  }
 ],
 "metadata": {
  "kernelspec": {
   "display_name": "Python 3",
   "language": "python",
   "name": "python3"
  },
  "language_info": {
   "codemirror_mode": {
    "name": "ipython",
    "version": 2
   },
   "file_extension": ".py",
   "mimetype": "text/x-python",
   "name": "python",
   "nbconvert_exporter": "python",
   "pygments_lexer": "ipython2",
   "version": "2.7.6"
  }
 },
 "nbformat": 4,
 "nbformat_minor": 5
}
