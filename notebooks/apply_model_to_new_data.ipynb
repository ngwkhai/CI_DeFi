{
 "cells": [
  {
   "metadata": {},
   "cell_type": "markdown",
   "source": [
    "# ÁP DỤNG MÔ HÌNH VỚI NEW DATA\n",
    "Notebook này áp dụng các mô hình ANN và SVM đã huấn luyện để dự đoán giao dịch bất thường trên tập new data.\n"
   ],
   "id": "ae9a39d9ac907970"
  },
  {
   "metadata": {},
   "cell_type": "markdown",
   "source": "#### Khai báo thư viện",
   "id": "acef762534c37e0a"
  },
  {
   "metadata": {
    "ExecuteTime": {
     "end_time": "2024-11-29T19:21:20.171313Z",
     "start_time": "2024-11-29T19:21:20.081646Z"
    }
   },
   "cell_type": "code",
   "source": [
    "# Import các thư viện cần thiết\n",
    "import os\n",
    "import pandas as pd\n",
    "from tensorflow.keras.models import load_model\n",
    "import joblib\n",
    "import matplotlib.pyplot as plt"
   ],
   "id": "a6bb2374e3729a2e",
   "outputs": [],
   "execution_count": 13
  },
  {
   "metadata": {},
   "cell_type": "markdown",
   "source": "#### Khai báo đường dẫn",
   "id": "d792043a4764b7a0"
  },
  {
   "cell_type": "code",
   "id": "initial_id",
   "metadata": {
    "collapsed": true,
    "ExecuteTime": {
     "end_time": "2024-11-29T19:21:20.212857Z",
     "start_time": "2024-11-29T19:21:20.195351Z"
    }
   },
   "source": [
    "# Đường dẫn dữ liệu và mô hình\n",
    "processed_data_path = \"../data/new_data/processed/new_data_processed.csv\"\n",
    "ann_model_path = \"../models/ann_model.keras\"\n",
    "svm_model_path = \"../models/svm_model.pkl\"\n",
    "output_file_path = \"../data/new_data/predict\"\n",
    "os.makedirs(output_file_path, exist_ok=True)\n"
   ],
   "outputs": [],
   "execution_count": 14
  },
  {
   "metadata": {},
   "cell_type": "markdown",
   "source": [
    "###  Tải dữ liệu\n",
    "Dữ liệu được tải từ `new_data_processed.csv`.\n"
   ],
   "id": "62633d018120941"
  },
  {
   "metadata": {
    "ExecuteTime": {
     "end_time": "2024-11-29T19:21:20.554721Z",
     "start_time": "2024-11-29T19:21:20.393994Z"
    }
   },
   "cell_type": "code",
   "source": [
    "# Tải dữ liệu đã xử lý\n",
    "new_data = pd.read_csv(processed_data_path)\n",
    "print(\"Dữ liệu đã xử lý:\")\n",
    "print(new_data.head())\n",
    "\n",
    "# Đảm bảo cột `Timestamp` là datetime\n",
    "new_data[\"Timestamp\"] = pd.to_datetime(new_data[\"Timestamp\"])\n"
   ],
   "id": "be66025500b501f2",
   "outputs": [
    {
     "name": "stdout",
     "output_type": "stream",
     "text": [
      "Dữ liệu đã xử lý:\n",
      "             Timestamp      Open      High       Low     Close    Volume  \\\n",
      "0  2023-04-02 04:00:00 -0.117977 -0.117984 -0.117970 -0.117977 -0.131704   \n",
      "1  2023-04-02 12:00:00 -0.117977 -0.117984 -0.117970 -0.117977 -0.130475   \n",
      "2  2023-04-03 01:00:00 -0.117977 -0.117984 -0.117971 -0.117977 -0.131646   \n",
      "3  2023-04-03 03:00:00 -0.117977 -0.117984 -0.117971 -0.117977 -0.131697   \n",
      "4  2023-04-03 05:00:00 -0.117977 -0.117984 -0.117971 -0.117977 -0.131699   \n",
      "\n",
      "      Pair  Exchange  Price_Change_Pct  Volume_Spike  Volatility  \n",
      "0  CLV-GBP  Coinbase          -0.00200     -0.788665   -0.100952  \n",
      "1  CLV-GBP  Coinbase          -0.15265     -0.374128   -0.100949  \n",
      "2  CLV-GBP  Coinbase          -0.00200     -0.779682   -0.100952  \n",
      "3  CLV-GBP  Coinbase          -0.00200     -0.792254   -0.100952  \n",
      "4  CLV-GBP  Coinbase          -0.00200     -0.793852   -0.100947  \n"
     ]
    }
   ],
   "execution_count": 15
  },
  {
   "metadata": {},
   "cell_type": "markdown",
   "source": [
    "### Tải mô hình\n",
    "Mô hình ANN và SVM được tải từ thư mục `models`.\n"
   ],
   "id": "ef178ad6fe5453a2"
  },
  {
   "metadata": {
    "ExecuteTime": {
     "end_time": "2024-11-29T19:21:22.143734Z",
     "start_time": "2024-11-29T19:21:20.611538Z"
    }
   },
   "cell_type": "code",
   "source": [
    "# Tải mô hình ANN đã huấn luyện\n",
    "ann_model = load_model(ann_model_path)\n",
    "\n",
    "# Chọn các cột đặc trưng\n",
    "features = [\"Open\", \"High\", \"Low\", \"Close\", \"Volume\", \"Price_Change_Pct\", \"Volume_Spike\", \"Volatility\"]\n",
    "\n",
    "# Trích xuất đặc trưng từ ANN\n",
    "new_data_features = ann_model.predict(new_data[features])\n",
    "print(f\"Kích thước đặc trưng từ ANN: {new_data_features.shape}\")\n",
    "\n",
    "# Tải mô hình SVM đã huấn luyện\n",
    "svm_model = joblib.load(svm_model_path)\n"
   ],
   "id": "44c91cc7293b66b7",
   "outputs": [
    {
     "name": "stdout",
     "output_type": "stream",
     "text": [
      "\u001B[1m250/250\u001B[0m \u001B[32m━━━━━━━━━━━━━━━━━━━━\u001B[0m\u001B[37m\u001B[0m \u001B[1m1s\u001B[0m 1ms/step\n",
      "Kích thước đặc trưng từ ANN: (7997, 1)\n"
     ]
    }
   ],
   "execution_count": 16
  },
  {
   "metadata": {},
   "cell_type": "markdown",
   "source": [
    "### Dự đoán nhãn\n",
    "ANN trích xuất đặc trưng.  \n",
    "SVM dự đoán nhãn (0 hoặc 1).\n"
   ],
   "id": "ea2f8eb679879f55"
  },
  {
   "metadata": {
    "ExecuteTime": {
     "end_time": "2024-11-29T19:21:23.648227Z",
     "start_time": "2024-11-29T19:21:22.558600Z"
    }
   },
   "cell_type": "code",
   "source": [
    "# Dự đoán nhãn cho dữ liệu mới\n",
    "# Ngưỡng dự đoán\n",
    "threshold = 0.7\n",
    "new_data[\"Predicted_Label\"] = (svm_model.predict_proba(new_data_features)[:, 1] > threshold).astype(int)\n",
    "\n",
    "\n",
    "# Hiển thị phân phối nhãn\n",
    "print(\"Phân phối nhãn dự đoán:\")\n",
    "print(new_data[\"Predicted_Label\"].value_counts())\n"
   ],
   "id": "5d1fd7e54ad307b",
   "outputs": [
    {
     "name": "stdout",
     "output_type": "stream",
     "text": [
      "Phân phối nhãn dự đoán:\n",
      "Predicted_Label\n",
      "0    7797\n",
      "1     200\n",
      "Name: count, dtype: int64\n"
     ]
    }
   ],
   "execution_count": 17
  },
  {
   "metadata": {},
   "cell_type": "markdown",
   "source": [
    "### Lưu kết quả\n",
    "Kết quả dự đoán được lưu vào file `new_data_redictions.csv`.\n"
   ],
   "id": "af7820ef18d89f5"
  },
  {
   "metadata": {
    "ExecuteTime": {
     "end_time": "2024-11-29T19:21:23.846146Z",
     "start_time": "2024-11-29T19:21:23.688457Z"
    }
   },
   "cell_type": "code",
   "source": [
    "# Lưu kết quả dự đoán\n",
    "new_data_sorted = new_data.sort_values(by=\"Timestamp\")\n",
    "new_data_sorted.to_csv(f\"{output_file_path}/new_data_predictions.csv\", index=False)\n",
    "print(f\"Kết quả đã được lưu tại: {output_file_path}\")\n"
   ],
   "id": "f4c8d7bd401a3c9e",
   "outputs": [
    {
     "name": "stdout",
     "output_type": "stream",
     "text": [
      "Kết quả đã được lưu tại: ../data/new_data/predict\n"
     ]
    }
   ],
   "execution_count": 18
  },
  {
   "metadata": {},
   "cell_type": "markdown",
   "source": [
    "### Trực quan hóa\n",
    "Phân tích số lượng giao dịch gian lận được phát hiện.  \n",
    "Trực quan hóa các đặc trưng quan trọng."
   ],
   "id": "c8c197baaa5dd5e1"
  },
  {
   "metadata": {
    "ExecuteTime": {
     "end_time": "2024-11-29T19:21:24.110909Z",
     "start_time": "2024-11-29T19:21:23.862893Z"
    }
   },
   "cell_type": "code",
   "source": [
    "# Vẽ biểu đồ phân phối nhãn\n",
    "new_data[\"Predicted_Label\"].value_counts().plot(kind=\"bar\", color=\"skyblue\")\n",
    "plt.title(\"Phân phối nhãn dự đoán trên dữ liệu mới\")\n",
    "plt.xlabel(\"Label\")\n",
    "plt.ylabel(\"Số lượng\")\n",
    "plt.show()\n"
   ],
   "id": "edb2b5af1f13af37",
   "outputs": [
    {
     "data": {
      "text/plain": [
       "<Figure size 640x480 with 1 Axes>"
      ],
      "image/png": "[encoded data removed]"
     },
     "metadata": {},
     "output_type": "display_data"
    }
   ],
   "execution_count": 19
  }
 ],
 "metadata": {
  "kernelspec": {
   "display_name": "Python 3",
   "language": "python",
   "name": "python3"
  },
  "language_info": {
   "codemirror_mode": {
    "name": "ipython",
    "version": 2
   },
   "file_extension": ".py",
   "mimetype": "text/x-python",
   "name": "python",
   "nbconvert_exporter": "python",
   "pygments_lexer": "ipython2",
   "version": "2.7.6"
  }
 },
 "nbformat": 4,
 "nbformat_minor": 5
}
