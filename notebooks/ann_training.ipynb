{
 "cells": [
  {
   "metadata": {},
   "cell_type": "markdown",
   "source": [
    "# HUẤN LUYỆN MÔ HÌNH ANN\n",
    "Thực hiện huấn luyện mô hình mạng nơ-ron nhân tạo (ANN) trên tập dữ liệu đã chia.\n"
   ],
   "id": "d8a9feed94116da0"
  },
  {
   "metadata": {},
   "cell_type": "markdown",
   "source": "#### Khai báo thư viện",
   "id": "efd7c5319c514ac8"
  },
  {
   "metadata": {},
   "cell_type": "code",
   "source": [
    "# Import các thư viện cần thiết\n",
    "import os\n",
    "import pandas as pd\n",
    "import numpy as np\n",
    "import matplotlib.pyplot as plt\n",
    "from keras import Input, Sequential\n",
    "from keras.src.callbacks import EarlyStopping\n",
    "from keras.src.layers import Dense, Dropout"
   ],
   "id": "7ceb005dbd849cf0",
   "outputs": [],
   "execution_count": null
  },
  {
   "metadata": {},
   "cell_type": "markdown",
   "source": "#### Khai báo đường dẫn",
   "id": "42b03c652aa9e72c"
  },
  {
   "metadata": {},
   "cell_type": "code",
   "source": [
    "# Đường dẫn dữ liệu\n",
    "split_dir = \"../data/old_data/splits\"\n",
    "model_dir = \"../models\"\n",
    "plot_dir = \"../plots/model_training\"\n",
    "os.makedirs(model_dir, exist_ok=True)\n",
    "os.makedirs(plot_dir, exist_ok=True)"
   ],
   "id": "4a1618603e238880",
   "outputs": [],
   "execution_count": null
  },
  {
   "metadata": {},
   "cell_type": "markdown",
   "source": [
    "### Tải dữ liệu\n",
    "Dữ liệu train và test được đọc từ: `data/old_data/splits/`.\n"
   ],
   "id": "f97c739b2045ac9d"
  },
  {
   "cell_type": "code",
   "id": "initial_id",
   "metadata": {
    "collapsed": true
   },
   "source": [
    "# Đọc dữ liệu\n",
    "X_train = pd.read_csv(f\"{split_dir}/X_train.csv\")\n",
    "y_train = pd.read_csv(f\"{split_dir}/y_train.csv\")\n",
    "X_test = pd.read_csv(f\"{split_dir}/X_test.csv\")\n",
    "y_test = pd.read_csv(f\"{split_dir}/y_test.csv\")\n",
    "\n",
    "print(f\"Kích thước tập train: {X_train.shape}\")\n",
    "print(f\"Kích thước tập test: {X_test.shape}\")\n"
   ],
   "outputs": [],
   "execution_count": null
  },
  {
   "metadata": {},
   "cell_type": "markdown",
   "source": [
    "### Định nghĩa mô hình ANN\n",
    "Mô hình ANN được định nghĩa với: 2 lớp ẩn (64 và 32 neuron).     \n",
    "   Lớp đầu ra dùng hàm Sigmoid để phân loại.\n"
   ],
   "id": "1acc0c9ba9582ea"
  },
  {
   "metadata": {},
   "cell_type": "code",
   "source": [
    "# Khởi tạo mô hình ANN\n",
    "model = Sequential([\n",
    "    Input(shape=(X_train.shape[1],)),  # Lớp đầu vào\n",
    "    Dense(64, activation='relu'),\n",
    "    Dropout(0.2),\n",
    "    Dense(32, activation='relu'),\n",
    "    Dropout(0.2),\n",
    "    Dense(16, activation='relu'),\n",
    "    Dense(1, activation='sigmoid')\n",
    "])\n",
    "\n",
    "# Compile mô hình\n",
    "model.compile(optimizer='adam', loss='binary_crossentropy', metrics=['accuracy'])\n",
    "\n",
    "# Hiển thị kiến trúc mô hình\n",
    "model.summary()"
   ],
   "id": "61db2b1afecd6fa5",
   "outputs": [],
   "execution_count": null
  },
  {
   "metadata": {},
   "cell_type": "markdown",
   "source": [
    "### Huấn luyện mô hình\n",
    "\n"
   ],
   "id": "857a7f11807aa7d1"
  },
  {
   "metadata": {},
   "cell_type": "code",
   "source": [
    "# Cài đặt Early Stopping\n",
    "early_stopping = EarlyStopping(monitor='val_loss', patience=5, restore_best_weights=True)\n",
    "\n",
    "# Huấn luyện mô hình\n",
    "history = model.fit(\n",
    "    X_train, y_train,\n",
    "    epochs=50,\n",
    "    batch_size=32,\n",
    "    validation_split=0.2,\n",
    "    callbacks=[early_stopping],\n",
    "    verbose=1\n",
    ")\n"
   ],
   "id": "d1d848f9d152f401",
   "outputs": [],
   "execution_count": null
  },
  {
   "metadata": {},
   "cell_type": "markdown",
   "source": "### Vẽ biểu đồ",
   "id": "5985cb02eacb3d05"
  },
  {
   "metadata": {},
   "cell_type": "code",
   "source": [
    "# Hiển thị lịch sử huấn luyện\n",
    "plt.figure(figsize=(12, 6))\n",
    "\n",
    "# Biểu đồ loss\n",
    "plt.subplot(1, 2, 1)\n",
    "plt.plot(history.history['loss'], label='Train Loss')\n",
    "plt.plot(history.history['val_loss'], label='Validation Loss')\n",
    "plt.title('Loss')\n",
    "plt.xlabel('Epochs')\n",
    "plt.ylabel('Loss')\n",
    "plt.legend()\n",
    "\n",
    "# Biểu đồ accuracy\n",
    "plt.subplot(1, 2, 2)\n",
    "plt.plot(history.history['accuracy'], label='Train Accuracy')\n",
    "plt.plot(history.history['val_accuracy'], label='Validation Accuracy')\n",
    "plt.title('Accuracy')\n",
    "plt.xlabel('Epochs')\n",
    "plt.ylabel('Accuracy')\n",
    "plt.legend()\n",
    "\n",
    "plt.tight_layout()\n",
    "\n",
    "plt.savefig(os.path.join(plot_dir, \"ann_loss_accuracy.png\"))\n",
    "plt.show()\n"
   ],
   "id": "5e8301112189bd88",
   "outputs": [],
   "execution_count": null
  },
  {
   "metadata": {},
   "cell_type": "markdown",
   "source": [
    "### Lưu mô hình ANN\n",
    "Mô hình được lưu vào file `models/ann_model.keras`.\n"
   ],
   "id": "619dc0c03dd0810e"
  },
  {
   "metadata": {},
   "cell_type": "code",
   "source": [
    "# Lưu mô hình đã huấn luyện\n",
    "model.save(f\"{model_dir}/ann_model.keras\")\n",
    "print(\"Mô hình ANN đã được lưu tại: ann_model.keras\")\n"
   ],
   "id": "1cf797ee3b8a7b5b",
   "outputs": [],
   "execution_count": null
  },
  {
   "metadata": {},
   "cell_type": "code",
   "source": "",
   "id": "940dc63d5ec1dfcf",
   "outputs": [],
   "execution_count": null
  }
 ],
 "metadata": {
  "kernelspec": {
   "display_name": "Python 3",
   "language": "python",
   "name": "python3"
  },
  "language_info": {
   "codemirror_mode": {
    "name": "ipython",
    "version": 2
   },
   "file_extension": ".py",
   "mimetype": "text/x-python",
   "name": "python",
   "nbconvert_exporter": "python",
   "pygments_lexer": "ipython2",
   "version": "2.7.6"
  }
 },
 "nbformat": 4,
 "nbformat_minor": 5
}
