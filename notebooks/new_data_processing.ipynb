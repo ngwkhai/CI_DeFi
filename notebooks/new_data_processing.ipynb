{
 "cells": [
  {
   "metadata": {},
   "cell_type": "markdown",
   "source": [
    "# XỬ LÝ DỮ LIỆU NEW DATA\n",
    "Notebook này xử lý dữ liệu mới để áp dụng mô hình đã huấn luyện.\n"
   ],
   "id": "561bb59c1c2e8243"
  },
  {
   "metadata": {},
   "cell_type": "markdown",
   "source": "#### Khai báo thư viện",
   "id": "d9129f6f0eb5081c"
  },
  {
   "cell_type": "code",
   "id": "initial_id",
   "metadata": {
    "collapsed": true
   },
   "source": [
    "# Import các thư viện cần thiết\n",
    "import os\n",
    "import pandas as pd\n",
    "import numpy as np\n",
    "from sklearn.preprocessing import StandardScaler"
   ],
   "outputs": [],
   "execution_count": null
  },
  {
   "metadata": {},
   "cell_type": "markdown",
   "source": "#### Khai báo đường dẫn",
   "id": "db738f89a2793135"
  },
  {
   "metadata": {},
   "cell_type": "code",
   "source": [
    "# Đường dẫn dữ liệu\n",
    "raw_data_dir = \"../data/new_data/raw/\"\n",
    "processed_data_dir = \"../data/new_data/processed/\"\n",
    "os.makedirs(processed_data_dir, exist_ok=True)\n",
    "\n",
    "# Danh sách các sàn giao dịch (giả định có trong thư mục raw)\n",
    "exchanges = [\"binance\", \"coinbase\", \"kucoin\", \"kraken\"]\n"
   ],
   "id": "3a2c83692b41a292",
   "outputs": [],
   "execution_count": null
  },
  {
   "metadata": {},
   "cell_type": "markdown",
   "source": "### Tải và hợp nhất dữ liệu",
   "id": "ac28419c8fb25291"
  },
  {
   "metadata": {},
   "cell_type": "code",
   "source": [
    "# Hợp nhất dữ liệu từ các file raw\n",
    "all_data = []\n",
    "\n",
    "for exchange in exchanges:\n",
    "    exchange_dir = os.path.join(raw_data_dir, exchange)\n",
    "    files = [f for f in os.listdir(exchange_dir) if f.endswith(\".csv\")]\n",
    "\n",
    "    for file in files:\n",
    "        file_path = os.path.join(exchange_dir, file)\n",
    "        df = pd.read_csv(file_path)\n",
    "        \n",
    "        all_data.append(df)\n",
    "\n",
    "# Gộp tất cả dữ liệu\n",
    "new_data = pd.concat(all_data, ignore_index=True)\n",
    "print(\"Dữ liệu sau khi hợp nhất:\")\n",
    "print(new_data.head())\n"
   ],
   "id": "c28026ff193022c2",
   "outputs": [],
   "execution_count": null
  },
  {
   "metadata": {},
   "cell_type": "markdown",
   "source": [
    "### Làm sạch dữ liệu\n",
    "Làm sạch tương tự như `old_data_processing.ipynb`.\n"
   ],
   "id": "21ea1b67de8dfb3e"
  },
  {
   "metadata": {},
   "cell_type": "code",
   "source": [
    "# Loại bỏ giá trị trùng lặp\n",
    "new_data.drop_duplicates(subset=[\"time\", \"pair\", \"exchange\"], inplace=True)\n",
    "\n",
    "# Kiểm tra giá trị thiếu\n",
    "missing_values = new_data.isnull().sum()\n",
    "print(\"Giá trị thiếu:\\n\", missing_values)\n",
    "\n",
    "# Điền giá trị thiếu bằng Interpolation\n",
    "new_data.interpolate(method=\"linear\", inplace=True)\n",
    "\n",
    "# Xác nhận không còn giá trị thiếu\n",
    "print(\"Giá trị thiếu sau khi xử lý:\\n\", new_data.isnull().sum())\n"
   ],
   "id": "d908b7e8410e52",
   "outputs": [],
   "execution_count": null
  },
  {
   "metadata": {},
   "cell_type": "markdown",
   "source": "### Tính toán đặc trưng",
   "id": "8f5f7fd19b9f9422"
  },
  {
   "metadata": {},
   "cell_type": "code",
   "source": [
    "# Tính các đặc trưng mới\n",
    "new_data[\"Price_Change_Pct\"] = (new_data[\"close\"] - new_data[\"open\"]) / new_data[\"open\"] * 100\n",
    "new_data[\"Volume_Spike\"] = new_data[\"volume\"] / new_data[\"volume\"].rolling(window=10).mean()\n",
    "new_data[\"Volatility\"] = new_data[\"high\"] - new_data[\"low\"]\n",
    "\n",
    "# Điền NaN trong các cột mới (do rolling)\n",
    "new_data.fillna(0, inplace=True)\n",
    "\n",
    "print(\"Dữ liệu với đặc trưng mới:\")\n",
    "print(new_data[[\"Price_Change_Pct\", \"Volume_Spike\", \"Volatility\"]].head())\n"
   ],
   "id": "6730366b307e46b9",
   "outputs": [],
   "execution_count": null
  },
  {
   "metadata": {},
   "cell_type": "markdown",
   "source": "### Chuẩn hoá để khớp với mô hình",
   "id": "84babfdd7ecdcaeb"
  },
  {
   "metadata": {},
   "cell_type": "code",
   "source": [
    "# Chuẩn hóa các cột đặc trưng\n",
    "scaler = StandardScaler()\n",
    "scaled_features = scaler.fit_transform(new_data[[\"open\", \"high\", \"low\", \"close\", \"volume\", \"Price_Change_Pct\", \"Volume_Spike\", \"Volatility\"]])\n",
    "\n",
    "# Tạo DataFrame mới cho dữ liệu chuẩn hóa\n",
    "new_data_scaled = pd.DataFrame(scaled_features, columns=[\"Open\", \"High\", \"Low\", \"Close\", \"Volume\", \"Price_Change_Pct\", \"Volume_Spike\", \"Volatility\"])\n",
    "\n",
    "# Thêm lại các cột quan trọng\n",
    "new_data_scaled[\"Timestamp\"] = new_data[\"time\"].values\n",
    "new_data_scaled[\"Pair\"] = new_data[\"pair\"].values\n",
    "new_data_scaled[\"Exchange\"] = new_data[\"exchange\"].values\n",
    "\n",
    "# Kiểm tra kết quả\n",
    "print(\"Dữ liệu đã chuẩn hóa:\")\n",
    "print(new_data_scaled.head())\n"
   ],
   "id": "6ed7dc2a712695fb",
   "outputs": [],
   "execution_count": null
  },
  {
   "metadata": {},
   "cell_type": "code",
   "source": [
    "# Sắp xếp lại các cột theo thứ tự mong muốn\n",
    "new_data_scaled = new_data_scaled[[\n",
    "    \"Timestamp\", \"Open\", \"High\", \"Low\", \"Close\", \"Volume\",\n",
    "    \"Pair\", \"Exchange\", \"Price_Change_Pct\", \"Volume_Spike\", \"Volatility\"\n",
    "]]\n",
    "\n",
    "# Sắp xếp dữ liệu theo cột Timestamp\n",
    "new_data_scaled = new_data_scaled.sort_values(by=\"Timestamp\", ascending=True)"
   ],
   "id": "570c7a1c02f6c540",
   "outputs": [],
   "execution_count": null
  },
  {
   "metadata": {},
   "cell_type": "markdown",
   "source": [
    "### Lưu dữ liệu đã xử lý\n",
    "Dữ liệu sau khi xử lý được lưu vào file `data/new_data/processed/new_data_processed.csv`.\n"
   ],
   "id": "896d20414003f702"
  },
  {
   "metadata": {},
   "cell_type": "code",
   "source": [
    "# Lưu dữ liệu đã xử lý\n",
    "processed_file_path = os.path.join(processed_data_dir, \"new_data_processed.csv\")\n",
    "new_data_scaled.to_csv(processed_file_path, index=False)\n",
    "print(f\"Dữ liệu đã được sắp xếp và lưu tại: {processed_file_path}\")"
   ],
   "id": "aab76ae2d207202b",
   "outputs": [],
   "execution_count": null
  }
 ],
 "metadata": {
  "kernelspec": {
   "display_name": "Python 3",
   "language": "python",
   "name": "python3"
  },
  "language_info": {
   "codemirror_mode": {
    "name": "ipython",
    "version": 2
   },
   "file_extension": ".py",
   "mimetype": "text/x-python",
   "name": "python",
   "nbconvert_exporter": "python",
   "pygments_lexer": "ipython2",
   "version": "2.7.6"
  }
 },
 "nbformat": 4,
 "nbformat_minor": 5
}
