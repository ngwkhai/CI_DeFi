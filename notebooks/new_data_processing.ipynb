{
 "cells": [
  {
   "metadata": {},
   "cell_type": "markdown",
   "source": [
    "# XỬ LÝ DỮ LIỆU NEW DATA\n",
    "Notebook này xử lý dữ liệu mới để áp dụng mô hình đã huấn luyện.\n"
   ],
   "id": "561bb59c1c2e8243"
  },
  {
   "metadata": {},
   "cell_type": "markdown",
   "source": "#### Khai báo thư viện",
   "id": "d9129f6f0eb5081c"
  },
  {
   "cell_type": "code",
   "id": "initial_id",
   "metadata": {
    "collapsed": true,
    "ExecuteTime": {
     "end_time": "2024-11-29T06:27:05.115801Z",
     "start_time": "2024-11-29T06:27:05.075666Z"
    }
   },
   "source": [
    "# Import các thư viện cần thiết\n",
    "import os\n",
    "import pandas as pd\n",
    "import numpy as np\n",
    "from sklearn.preprocessing import StandardScaler"
   ],
   "outputs": [],
   "execution_count": 61
  },
  {
   "metadata": {},
   "cell_type": "markdown",
   "source": "#### Khai báo đường dẫn",
   "id": "db738f89a2793135"
  },
  {
   "metadata": {
    "ExecuteTime": {
     "end_time": "2024-11-29T06:27:05.143621Z",
     "start_time": "2024-11-29T06:27:05.135107Z"
    }
   },
   "cell_type": "code",
   "source": [
    "# Đường dẫn dữ liệu\n",
    "raw_data_dir = \"../data/new_data/raw/\"\n",
    "processed_data_dir = \"../data/new_data/processed/\"\n",
    "os.makedirs(processed_data_dir, exist_ok=True)\n",
    "\n",
    "# Danh sách các sàn giao dịch (giả định có trong thư mục raw)\n",
    "exchanges = [\"binance\", \"coinbase\", \"kucoin\", \"kraken\"]\n"
   ],
   "id": "3a2c83692b41a292",
   "outputs": [],
   "execution_count": 62
  },
  {
   "metadata": {},
   "cell_type": "markdown",
   "source": "### Tải và hợp nhất dữ liệu",
   "id": "ac28419c8fb25291"
  },
  {
   "metadata": {
    "ExecuteTime": {
     "end_time": "2024-11-29T06:27:05.246424Z",
     "start_time": "2024-11-29T06:27:05.203836Z"
    }
   },
   "cell_type": "code",
   "source": [
    "# Hợp nhất dữ liệu từ các file raw\n",
    "all_data = []\n",
    "\n",
    "for exchange in exchanges:\n",
    "    exchange_dir = os.path.join(raw_data_dir, exchange)\n",
    "    files = [f for f in os.listdir(exchange_dir) if f.endswith(\".csv\")]\n",
    "\n",
    "    for file in files:\n",
    "        file_path = os.path.join(exchange_dir, file)\n",
    "        df = pd.read_csv(file_path)\n",
    "        \n",
    "        all_data.append(df)\n",
    "\n",
    "# Gộp tất cả dữ liệu\n",
    "new_data = pd.concat(all_data, ignore_index=True)\n",
    "print(\"Dữ liệu sau khi hợp nhất:\")\n",
    "print(new_data.head())\n"
   ],
   "id": "c28026ff193022c2",
   "outputs": [
    {
     "name": "stdout",
     "output_type": "stream",
     "text": [
      "Dữ liệu sau khi hợp nhất:\n",
      "                  time     open     high      low    close     volume  \\\n",
      "0  2024-10-18 15:00:00  0.03861  0.03872  0.03853  0.03861  2005.2370   \n",
      "1  2024-10-18 16:00:00  0.03860  0.03862  0.03844  0.03855  1241.2893   \n",
      "2  2024-10-18 17:00:00  0.03854  0.03855  0.03845  0.03852   798.4479   \n",
      "3  2024-10-18 18:00:00  0.03853  0.03880  0.03851  0.03867  2854.0002   \n",
      "4  2024-10-18 19:00:00  0.03867  0.03872  0.03860  0.03865   813.1840   \n",
      "\n",
      "      pair exchange  \n",
      "0  ETH-BTC  Binance  \n",
      "1  ETH-BTC  Binance  \n",
      "2  ETH-BTC  Binance  \n",
      "3  ETH-BTC  Binance  \n",
      "4  ETH-BTC  Binance  \n"
     ]
    }
   ],
   "execution_count": 63
  },
  {
   "metadata": {},
   "cell_type": "markdown",
   "source": [
    "### Làm sạch dữ liệu\n",
    "Làm sạch tương tự như `old_data_processing.ipynb`.\n"
   ],
   "id": "21ea1b67de8dfb3e"
  },
  {
   "metadata": {
    "ExecuteTime": {
     "end_time": "2024-11-29T06:27:05.323591Z",
     "start_time": "2024-11-29T06:27:05.286202Z"
    }
   },
   "cell_type": "code",
   "source": [
    "# Loại bỏ giá trị trùng lặp\n",
    "new_data.drop_duplicates(subset=[\"time\", \"pair\", \"exchange\"], inplace=True)\n",
    "\n",
    "# Kiểm tra giá trị thiếu\n",
    "missing_values = new_data.isnull().sum()\n",
    "print(\"Giá trị thiếu:\\n\", missing_values)\n",
    "\n",
    "# Điền giá trị thiếu bằng Interpolation\n",
    "new_data.interpolate(method=\"linear\", inplace=True)\n",
    "\n",
    "# Xác nhận không còn giá trị thiếu\n",
    "print(\"Giá trị thiếu sau khi xử lý:\\n\", new_data.isnull().sum())\n"
   ],
   "id": "d908b7e8410e52",
   "outputs": [
    {
     "name": "stdout",
     "output_type": "stream",
     "text": [
      "Giá trị thiếu:\n",
      " time        0\n",
      "open        0\n",
      "high        0\n",
      "low         0\n",
      "close       0\n",
      "volume      0\n",
      "pair        0\n",
      "exchange    0\n",
      "dtype: int64\n",
      "Giá trị thiếu sau khi xử lý:\n",
      " time        0\n",
      "open        0\n",
      "high        0\n",
      "low         0\n",
      "close       0\n",
      "volume      0\n",
      "pair        0\n",
      "exchange    0\n",
      "dtype: int64\n"
     ]
    },
    {
     "name": "stderr",
     "output_type": "stream",
     "text": [
      "/var/folders/rz/mr63129s7vs6092h_t0czm140000gn/T/ipykernel_6837/2372838812.py:9: FutureWarning: DataFrame.interpolate with object dtype is deprecated and will raise in a future version. Call obj.infer_objects(copy=False) before interpolating instead.\n",
      "  new_data.interpolate(method=\"linear\", inplace=True)\n"
     ]
    }
   ],
   "execution_count": 64
  },
  {
   "metadata": {},
   "cell_type": "markdown",
   "source": "### Tính toán đặc trưng",
   "id": "8f5f7fd19b9f9422"
  },
  {
   "metadata": {
    "ExecuteTime": {
     "end_time": "2024-11-29T06:27:05.446752Z",
     "start_time": "2024-11-29T06:27:05.392910Z"
    }
   },
   "cell_type": "code",
   "source": [
    "# Tính các đặc trưng mới\n",
    "new_data[\"Price_Change_Pct\"] = (new_data[\"close\"] - new_data[\"open\"]) / new_data[\"open\"] * 100\n",
    "new_data[\"Volume_Spike\"] = new_data[\"volume\"] / new_data[\"volume\"].rolling(window=10).mean()\n",
    "new_data[\"Volatility\"] = new_data[\"high\"] - new_data[\"low\"]\n",
    "\n",
    "# Điền NaN trong các cột mới (do rolling)\n",
    "new_data.fillna(0, inplace=True)\n",
    "\n",
    "print(\"Dữ liệu với đặc trưng mới:\")\n",
    "print(new_data[[\"Price_Change_Pct\", \"Volume_Spike\", \"Volatility\"]].head())\n"
   ],
   "id": "6730366b307e46b9",
   "outputs": [
    {
     "name": "stdout",
     "output_type": "stream",
     "text": [
      "Dữ liệu với đặc trưng mới:\n",
      "   Price_Change_Pct  Volume_Spike  Volatility\n",
      "0          0.000000           0.0     0.00019\n",
      "1         -0.129534           0.0     0.00018\n",
      "2         -0.051894           0.0     0.00010\n",
      "3          0.363353           0.0     0.00029\n",
      "4         -0.051720           0.0     0.00012\n"
     ]
    }
   ],
   "execution_count": 65
  },
  {
   "metadata": {},
   "cell_type": "markdown",
   "source": "### Chuẩn hoá để khớp với mô hình",
   "id": "84babfdd7ecdcaeb"
  },
  {
   "metadata": {
    "ExecuteTime": {
     "end_time": "2024-11-29T06:27:05.519055Z",
     "start_time": "2024-11-29T06:27:05.486414Z"
    }
   },
   "cell_type": "code",
   "source": [
    "# Chuẩn hóa các cột đặc trưng\n",
    "scaler = StandardScaler()\n",
    "scaled_features = scaler.fit_transform(new_data[[\"open\", \"high\", \"low\", \"close\", \"volume\", \"Price_Change_Pct\", \"Volume_Spike\", \"Volatility\"]])\n",
    "\n",
    "# Tạo DataFrame mới cho dữ liệu chuẩn hóa\n",
    "new_data_scaled = pd.DataFrame(scaled_features, columns=[\"Open\", \"High\", \"Low\", \"Close\", \"Volume\", \"Price_Change_Pct\", \"Volume_Spike\", \"Volatility\"])\n",
    "\n",
    "# Thêm lại các cột quan trọng\n",
    "new_data_scaled[\"Timestamp\"] = new_data[\"time\"].values\n",
    "new_data_scaled[\"Pair\"] = new_data[\"pair\"].values\n",
    "new_data_scaled[\"Exchange\"] = new_data[\"exchange\"].values\n",
    "\n",
    "# Kiểm tra kết quả\n",
    "print(\"Dữ liệu đã chuẩn hóa:\")\n",
    "print(new_data_scaled.head())\n"
   ],
   "id": "6ed7dc2a712695fb",
   "outputs": [
    {
     "name": "stdout",
     "output_type": "stream",
     "text": [
      "Dữ liệu đã chuẩn hóa:\n",
      "       Open      High       Low     Close    Volume  Price_Change_Pct  \\\n",
      "0 -0.117979 -0.117985 -0.117972 -0.117979 -0.131174         -0.002000   \n",
      "1 -0.117979 -0.117985 -0.117972 -0.117979 -0.131382         -0.100156   \n",
      "2 -0.117979 -0.117985 -0.117972 -0.117979 -0.131503         -0.041323   \n",
      "3 -0.117979 -0.117985 -0.117972 -0.117979 -0.130943          0.273339   \n",
      "4 -0.117979 -0.117985 -0.117972 -0.117979 -0.131499         -0.041191   \n",
      "\n",
      "   Volume_Spike  Volatility            Timestamp     Pair Exchange  \n",
      "0     -0.798094   -0.100947  2024-10-18 15:00:00  ETH-BTC  Binance  \n",
      "1     -0.798094   -0.100947  2024-10-18 16:00:00  ETH-BTC  Binance  \n",
      "2     -0.798094   -0.100949  2024-10-18 17:00:00  ETH-BTC  Binance  \n",
      "3     -0.798094   -0.100944  2024-10-18 18:00:00  ETH-BTC  Binance  \n",
      "4     -0.798094   -0.100949  2024-10-18 19:00:00  ETH-BTC  Binance  \n"
     ]
    }
   ],
   "execution_count": 66
  },
  {
   "metadata": {
    "ExecuteTime": {
     "end_time": "2024-11-29T06:27:05.718544Z",
     "start_time": "2024-11-29T06:27:05.710025Z"
    }
   },
   "cell_type": "code",
   "source": [
    "# Sắp xếp lại các cột theo thứ tự mong muốn\n",
    "new_data_scaled = new_data_scaled[[\n",
    "    \"Timestamp\", \"Open\", \"High\", \"Low\", \"Close\", \"Volume\",\n",
    "    \"Pair\", \"Exchange\", \"Price_Change_Pct\", \"Volume_Spike\", \"Volatility\"\n",
    "]]\n",
    "\n",
    "# Sắp xếp dữ liệu theo cột Timestamp\n",
    "new_data_scaled = new_data_scaled.sort_values(by=\"Timestamp\", ascending=True)"
   ],
   "id": "570c7a1c02f6c540",
   "outputs": [],
   "execution_count": 67
  },
  {
   "metadata": {},
   "cell_type": "markdown",
   "source": [
    "### Lưu dữ liệu đã xử lý\n",
    "Dữ liệu sau khi xử lý được lưu vào file `data/new_data/processed/new_data_processed.csv`.\n"
   ],
   "id": "896d20414003f702"
  },
  {
   "metadata": {
    "ExecuteTime": {
     "end_time": "2024-11-29T06:27:48.748620Z",
     "start_time": "2024-11-29T06:27:48.610493Z"
    }
   },
   "cell_type": "code",
   "source": [
    "# Lưu dữ liệu đã xử lý\n",
    "processed_file_path = os.path.join(processed_data_dir, \"new_data_processed.csv\")\n",
    "new_data_scaled.to_csv(processed_file_path, index=False)\n",
    "print(f\"Dữ liệu đã được sắp xếp và lưu tại: {processed_file_path}\")"
   ],
   "id": "aab76ae2d207202b",
   "outputs": [
    {
     "name": "stdout",
     "output_type": "stream",
     "text": [
      "Dữ liệu đã được sắp xếp và lưu tại: ../data/new_data/processed/new_data_processed.csv\n"
     ]
    }
   ],
   "execution_count": 70
  }
 ],
 "metadata": {
  "kernelspec": {
   "display_name": "Python 3",
   "language": "python",
   "name": "python3"
  },
  "language_info": {
   "codemirror_mode": {
    "name": "ipython",
    "version": 2
   },
   "file_extension": ".py",
   "mimetype": "text/x-python",
   "name": "python",
   "nbconvert_exporter": "python",
   "pygments_lexer": "ipython2",
   "version": "2.7.6"
  }
 },
 "nbformat": 4,
 "nbformat_minor": 5
}
