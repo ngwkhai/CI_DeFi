{
 "cells": [
  {
   "cell_type": "code",
   "id": "initial_id",
   "metadata": {
    "collapsed": true,
    "ExecuteTime": {
     "end_time": "2024-11-29T00:11:20.405376Z",
     "start_time": "2024-11-29T00:11:20.301949Z"
    }
   },
   "source": [
    "# Import các thư viện\n",
    "import os\n",
    "import pandas as pd\n",
    "import numpy as np\n",
    "from sklearn.preprocessing import MinMaxScaler\n",
    "from scipy.stats import zscore\n",
    "\n",
    "# Đường dẫn thư mục\n",
    "data_dir = \"../data/old_data/\"\n",
    "processed_dir = os.path.join(data_dir, \"processed\")\n",
    "\n",
    "# Tạo thư mục lưu trữ dữ liệu nếu chưa có\n",
    "os.makedirs(processed_dir, exist_ok=True)\n",
    "\n",
    "# Danh sách các sàn giao dịch\n",
    "exchanges = [\"binance\", \"bittrex\", \"kraken\", \"kucoin\", \"lbank\"]\n"
   ],
   "outputs": [],
   "execution_count": 33
  },
  {
   "metadata": {
    "ExecuteTime": {
     "end_time": "2024-11-29T00:11:25.252633Z",
     "start_time": "2024-11-29T00:11:20.453727Z"
    }
   },
   "cell_type": "code",
   "source": [
    "# Hợp nhất dữ liệu từ các file CSV\n",
    "all_data = []\n",
    "\n",
    "for exchange in exchanges:\n",
    "    exchange_dir = os.path.join(data_dir, \"raw\", exchange)\n",
    "    files = [f for f in os.listdir(exchange_dir) if f.endswith(\".csv\")]\n",
    "\n",
    "    for file in files:\n",
    "        file_path = os.path.join(exchange_dir, file)\n",
    "        df = pd.read_csv(file_path)\n",
    "        \n",
    "        # Lấy thông tin cặp giao dịch từ tên file\n",
    "        pair = file.split(\"_\")[1]\n",
    "        \n",
    "        # Thêm cột thông tin\n",
    "        df[\"Pair\"] = pair\n",
    "        df[\"Exchange\"] = exchange\n",
    "        all_data.append(df)\n",
    "\n",
    "# Hợp nhất toàn bộ dữ liệu\n",
    "data = pd.concat(all_data, ignore_index=True)\n",
    "print(\"Dữ liệu ban đầu:\")\n",
    "print(data.head())\n"
   ],
   "id": "4394448f5f47b1b6",
   "outputs": [
    {
     "name": "stdout",
     "output_type": "stream",
     "text": [
      "Dữ liệu ban đầu:\n",
      "   Unnamed: 0            Timestamp      Open      High       Low     Close  \\\n",
      "0           0  2018-04-20 00:00:00  0.032400  0.032536  0.032249  0.032295   \n",
      "1           1  2018-04-20 01:00:00  0.032377  0.032399  0.031879  0.032141   \n",
      "2           2  2018-04-20 02:00:00  0.032140  0.032733  0.031999  0.032576   \n",
      "3           3  2018-04-20 03:00:00  0.032628  0.032701  0.032290  0.032290   \n",
      "4           4  2018-04-20 04:00:00  0.032290  0.032374  0.031880  0.032105   \n",
      "\n",
      "    Volume     Pair Exchange  \n",
      "0  1387.89  ETC-ETH  binance  \n",
      "1  2582.66  ETC-ETH  binance  \n",
      "2  3393.88  ETC-ETH  binance  \n",
      "3   959.78  ETC-ETH  binance  \n",
      "4  2508.01  ETC-ETH  binance  \n"
     ]
    }
   ],
   "execution_count": 34
  },
  {
   "metadata": {
    "ExecuteTime": {
     "end_time": "2024-11-29T00:11:25.705202Z",
     "start_time": "2024-11-29T00:11:25.315930Z"
    }
   },
   "cell_type": "code",
   "source": [
    "# Chuyển Timestamp sang datetime\n",
    "data[\"Timestamp\"] = pd.to_datetime(data[\"Timestamp\"])\n",
    "\n",
    "# Loại bỏ giá trị trùng lặp\n",
    "data.drop_duplicates(subset=[\"Timestamp\", \"Pair\", \"Exchange\"], inplace=True)\n",
    "\n",
    "# Sắp xếp dữ liệu\n",
    "data.sort_values(by=\"Timestamp\", inplace=True)\n",
    "print(data.info())\n"
   ],
   "id": "6b73c1514f8517d8",
   "outputs": [
    {
     "name": "stdout",
     "output_type": "stream",
     "text": [
      "<class 'pandas.core.frame.DataFrame'>\n",
      "Index: 468955 entries, 0 to 449760\n",
      "Data columns (total 9 columns):\n",
      " #   Column      Non-Null Count   Dtype         \n",
      "---  ------      --------------   -----         \n",
      " 0   Unnamed: 0  468955 non-null  int64         \n",
      " 1   Timestamp   468955 non-null  datetime64[ns]\n",
      " 2   Open        454238 non-null  float64       \n",
      " 3   High        454238 non-null  float64       \n",
      " 4   Low         454236 non-null  float64       \n",
      " 5   Close       454238 non-null  float64       \n",
      " 6   Volume      468955 non-null  float64       \n",
      " 7   Pair        468955 non-null  object        \n",
      " 8   Exchange    468955 non-null  object        \n",
      "dtypes: datetime64[ns](1), float64(5), int64(1), object(2)\n",
      "memory usage: 35.8+ MB\n",
      "None\n"
     ]
    }
   ],
   "execution_count": 35
  },
  {
   "metadata": {
    "ExecuteTime": {
     "end_time": "2024-11-29T00:11:25.905037Z",
     "start_time": "2024-11-29T00:11:25.746243Z"
    }
   },
   "cell_type": "code",
   "source": [
    "# Kiểm tra giá trị thiếu\n",
    "missing_values = data.isnull().sum()\n",
    "print(\"Missing values:\\n\", missing_values)\n",
    "\n",
    "# Điền giá trị thiếu bằng phương pháp Linear Interpolation\n",
    "data.interpolate(method=\"linear\", inplace=True)\n",
    "\n",
    "# Xác nhận lại không còn giá trị thiếu\n",
    "print(\"Missing values after filling:\\n\", data.isnull().sum())\n"
   ],
   "id": "7f0464c27bf66bd6",
   "outputs": [
    {
     "name": "stdout",
     "output_type": "stream",
     "text": [
      "Missing values:\n",
      " Unnamed: 0        0\n",
      "Timestamp         0\n",
      "Open          14717\n",
      "High          14717\n",
      "Low           14719\n",
      "Close         14717\n",
      "Volume            0\n",
      "Pair              0\n",
      "Exchange          0\n",
      "dtype: int64\n",
      "Missing values after filling:\n",
      " Unnamed: 0    0\n",
      "Timestamp     0\n",
      "Open          0\n",
      "High          0\n",
      "Low           0\n",
      "Close         0\n",
      "Volume        0\n",
      "Pair          0\n",
      "Exchange      0\n",
      "dtype: int64\n"
     ]
    },
    {
     "name": "stderr",
     "output_type": "stream",
     "text": [
      "/var/folders/rz/mr63129s7vs6092h_t0czm140000gn/T/ipykernel_3941/2778096254.py:6: FutureWarning: DataFrame.interpolate with object dtype is deprecated and will raise in a future version. Call obj.infer_objects(copy=False) before interpolating instead.\n",
      "  data.interpolate(method=\"linear\", inplace=True)\n"
     ]
    }
   ],
   "execution_count": 36
  },
  {
   "metadata": {
    "ExecuteTime": {
     "end_time": "2024-11-29T00:11:26.017719Z",
     "start_time": "2024-11-29T00:11:25.938909Z"
    }
   },
   "cell_type": "code",
   "source": [
    "# Tính toán các đặc trưng mới\n",
    "data[\"Price_Change_Pct\"] = (data[\"Close\"] - data[\"Open\"]) / data[\"Open\"] * 100\n",
    "data[\"Volume_Spike\"] = data[\"Volume\"] / data[\"Volume\"].rolling(window=10).mean()\n",
    "data[\"Volatility\"] = data[\"High\"] - data[\"Low\"]\n",
    "\n",
    "# Điền NaN trong cột mới (do rolling tạo ra)\n",
    "data.fillna(0, inplace=True)\n",
    "\n",
    "\n",
    "print(\"Dữ liệu với đặc trưng mới:\")\n",
    "print(data[[\"Price_Change_Pct\", \"Volume_Spike\", \"Volatility\"]].head())\n"
   ],
   "id": "c62a7b965a6bb902",
   "outputs": [
    {
     "name": "stdout",
     "output_type": "stream",
     "text": [
      "Dữ liệu với đặc trưng mới:\n",
      "        Price_Change_Pct  Volume_Spike    Volatility\n",
      "0              -0.324074           0.0  2.870000e-04\n",
      "44640          -0.097640           0.0  1.140000e-06\n",
      "337440          0.000000           0.0  3.000000e-07\n",
      "337920          1.851852           0.0  3.000000e-05\n",
      "44160          -2.173550           0.0  1.600000e-04\n"
     ]
    }
   ],
   "execution_count": 37
  },
  {
   "metadata": {
    "ExecuteTime": {
     "end_time": "2024-11-29T00:11:30.265425Z",
     "start_time": "2024-11-29T00:11:26.108298Z"
    }
   },
   "cell_type": "code",
   "source": [
    "# Import các thư viện cần thiết\n",
    "import pandas as pd\n",
    "from sklearn.ensemble import IsolationForest\n",
    "from sklearn.preprocessing import StandardScaler\n",
    "# Chọn các đặc trưng để phát hiện bất thường\n",
    "features = [\"Open\", \"High\", \"Low\", \"Close\", \"Volume\", \"Price_Change_Pct\", \"Volume_Spike\", \"Volatility\"]\n",
    "\n",
    "# Chuẩn hóa dữ liệu\n",
    "scaler = StandardScaler()\n",
    "data_scaled = scaler.fit_transform(data[features])\n",
    "\n",
    "# Isolation Forest với contamination ~0.01 (tỷ lệ bất thường ~1%)\n",
    "iso_forest = IsolationForest(contamination=0.01, random_state=42)\n",
    "data['Anomaly_Score'] = iso_forest.fit_predict(data_scaled)\n",
    "\n",
    "# Gắn nhãn: -1 là bất thường, 1 là bình thường\n",
    "data['Label'] = (data['Anomaly_Score'] == -1).astype(int)\n",
    "\n",
    "print(\"Phân phối nhãn bất thường sau Isolation Forest:\")\n",
    "print(data['Label'].value_counts())\n"
   ],
   "id": "c0baa676bd592899",
   "outputs": [
    {
     "name": "stdout",
     "output_type": "stream",
     "text": [
      "Phân phối nhãn bất thường sau Isolation Forest:\n",
      "Label\n",
      "0    464266\n",
      "1      4689\n",
      "Name: count, dtype: int64\n"
     ]
    }
   ],
   "execution_count": 38
  },
  {
   "metadata": {
    "ExecuteTime": {
     "end_time": "2024-11-29T00:11:30.403373Z",
     "start_time": "2024-11-29T00:11:30.336515Z"
    }
   },
   "cell_type": "code",
   "source": [
    "# Chuẩn hóa các cột\n",
    "scaler = MinMaxScaler()\n",
    "\n",
    "columns_to_scale = [\"Open\", \"High\", \"Low\", \"Close\", \"Volume\"]\n",
    "data[columns_to_scale] = scaler.fit_transform(data[columns_to_scale])\n",
    "\n",
    "print(\"Dữ liệu sau chuẩn hóa:\")\n",
    "print(data.head())\n"
   ],
   "id": "54cff75764b3609c",
   "outputs": [
    {
     "name": "stdout",
     "output_type": "stream",
     "text": [
      "Dữ liệu sau chuẩn hóa:\n",
      "        Unnamed: 0  Timestamp          Open          High           Low  \\\n",
      "0                0 2018-04-20  2.968710e-08  2.981171e-08  2.985985e-08   \n",
      "44640            0 2018-04-20  5.611265e-11  5.626842e-11  5.581456e-11   \n",
      "337440           0 2018-04-20  4.974454e-11  5.001026e-11  5.026829e-11   \n",
      "337920           0 2018-04-20  1.484172e-09  1.511651e-09  1.499799e-09   \n",
      "44160            0 2018-04-20  5.480045e-09  5.497445e-09  5.407188e-09   \n",
      "\n",
      "               Close    Volume     Pair Exchange  Price_Change_Pct  \\\n",
      "0       2.959089e-08  0.000001  ETC-ETH  binance         -0.324074   \n",
      "44640   5.605767e-11  0.000108  AST-BTC  binance         -0.097640   \n",
      "337440  4.974454e-11  0.000059  LYM-ETH   kucoin          0.000000   \n",
      "337920  1.511661e-09  0.000003  BTM-ETH   kucoin          1.851852   \n",
      "44160   5.360930e-09  0.000052  ICX-ETH  binance         -2.173550   \n",
      "\n",
      "        Volume_Spike    Volatility  Anomaly_Score  Label  \n",
      "0                0.0  2.870000e-04              1      0  \n",
      "44640            0.0  1.140000e-06              1      0  \n",
      "337440           0.0  3.000000e-07              1      0  \n",
      "337920           0.0  3.000000e-05              1      0  \n",
      "44160            0.0  1.600000e-04              1      0  \n"
     ]
    }
   ],
   "execution_count": 39
  },
  {
   "metadata": {
    "ExecuteTime": {
     "end_time": "2024-11-29T00:11:39.087621Z",
     "start_time": "2024-11-29T00:11:30.462970Z"
    }
   },
   "cell_type": "code",
   "source": [
    "# Lưu dữ liệu đã xử lý\n",
    "processed_file = os.path.join(processed_dir, \"data_processed.csv\")\n",
    "data.to_csv(processed_file, index=False)\n",
    "print(f\"Dữ liệu đã lưu tại: {processed_file}\")\n"
   ],
   "id": "b83035a4991e6669",
   "outputs": [
    {
     "name": "stdout",
     "output_type": "stream",
     "text": [
      "Dữ liệu đã lưu tại: ../data/old_data/processed/data_processed.csv\n"
     ]
    }
   ],
   "execution_count": 40
  }
 ],
 "metadata": {
  "kernelspec": {
   "display_name": "Python 3",
   "language": "python",
   "name": "python3"
  },
  "language_info": {
   "codemirror_mode": {
    "name": "ipython",
    "version": 2
   },
   "file_extension": ".py",
   "mimetype": "text/x-python",
   "name": "python",
   "nbconvert_exporter": "python",
   "pygments_lexer": "ipython2",
   "version": "2.7.6"
  }
 },
 "nbformat": 4,
 "nbformat_minor": 5
}
