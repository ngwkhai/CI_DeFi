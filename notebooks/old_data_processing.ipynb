{
 "cells": [
  {
   "metadata": {},
   "cell_type": "markdown",
   "source": [
    "# XỬ LÝ DỮ LIỆU OLD DATA\n",
    "Mục tiêu của notebook này là xử lý dữ liệu có sẵn (old data) đã thu thập từ Google Data Search.\n",
    "\n",
    "Dữ liệu thu thập được bao gồm:   \n",
    "Timestamp: Thời gian giao dịch.  \n",
    "Open: Giá mở cửa của cặp tiền điện tử.  \n",
    "High: Giá cao nhất trong ngày.  \n",
    "Low: Giá thấp nhất trong ngày.  \n",
    "Close: Giá đóng cửa của cặp tiền điện tử.  \n",
    "Volume: Khối lượng giao dịch trong ngày.  \n",
    "Pair: Tên cặp tiền điện tử đã thực hiện giao dịch.  \n",
    "Exchange: Tên sàn giao dịch đã thực hiện giao dịch.\n",
    "\n",
    "Chúng ta sẽ làm sạch, xử lý giá trị thiếu, tạo đặc trưng, và xử lý cân mất cân bằng dữ liệu.\n"
   ],
   "id": "be4b428f564f34c3"
  },
  {
   "metadata": {},
   "cell_type": "markdown",
   "source": [
    "## CẤU TRÚC NOTEBOOK\n",
    "1. **Đọc dữ liệu**:  \n",
    "   Tải dữ liệu từ nguồn hoặc file đã lưu.\n",
    "2. **Phân tích dữ liệu**:  \n",
    "   Vẽ các biểu đồ phân tích.\n",
    "3. **Làm sạch dữ liệu**:  \n",
    "   Xử lý giá trị thiếu, trùng lặp và chuyển đổi định dạng.\n",
    "4. **Tạo đặc trưng (Feature Engineering)**:  \n",
    "   Tạo thêm các chỉ số kỹ thuật.\n",
    "5. **Cân bằng dữ liệu**:  \n",
    "   Dùng SMOTE để cân bằng tập dữ liệu.\n",
    "6. **Lưu dữ liệu đã xử lý**:  \n",
    "   Lưu kết quả để sử dụng cho các bước tiếp theo.\n"
   ],
   "id": "a80acd6add83985e"
  },
  {
   "metadata": {},
   "cell_type": "markdown",
   "source": "#### Import các thư viện",
   "id": "9eb39f86fe36a2b"
  },
  {
   "metadata": {},
   "cell_type": "code",
   "source": [
    "import os\n",
    "import numpy as np\n",
    "import pandas as pd\n",
    "import seaborn as sns\n",
    "from matplotlib import pyplot as plt\n",
    "from sklearn.cluster import MiniBatchKMeans\n",
    "from sklearn.ensemble import IsolationForest\n",
    "from sklearn.preprocessing import MinMaxScaler, StandardScaler"
   ],
   "id": "60c5d7e0fdfc178d",
   "outputs": [],
   "execution_count": null
  },
  {
   "metadata": {},
   "cell_type": "markdown",
   "source": "#### Đường dẫn thư mục",
   "id": "3298c722277ecc96"
  },
  {
   "cell_type": "code",
   "id": "initial_id",
   "metadata": {
    "collapsed": true
   },
   "source": [
    "# Đường dẫn thư mục\n",
    "data_dir = \"../data/old_data/\"\n",
    "processed_dir = os.path.join(data_dir, \"processed\")\n",
    "plot_dir = \"../plots/data_analysis\"\n",
    "\n",
    "# Tạo thư mục lưu trữ dữ liệu nếu chưa có\n",
    "os.makedirs(processed_dir, exist_ok=True)\n",
    "os.makedirs(plot_dir, exist_ok=True)\n",
    "\n",
    "# Danh sách các sàn giao dịch\n",
    "exchanges = [\"binance\", \"bittrex\", \"kraken\", \"kucoin\", \"lbank\"]"
   ],
   "outputs": [],
   "execution_count": null
  },
  {
   "metadata": {},
   "cell_type": "markdown",
   "source": [
    "### Đọc dữ liệu\n",
    "Chúng ta sử dụng thư viện pandas để đọc dữ liệu từ thư mục `data/raw/old_data`.\n",
    "\n",
    "Sau đó hợp nhất dữ liệu.\n"
   ],
   "id": "3d644e0ad17896ce"
  },
  {
   "metadata": {},
   "cell_type": "code",
   "source": [
    "# Hợp nhất dữ liệu từ các file CSV\n",
    "all_data = []\n",
    "\n",
    "for exchange in exchanges:\n",
    "    exchange_dir = os.path.join(data_dir, \"raw\", exchange)\n",
    "    files = [f for f in os.listdir(exchange_dir) if f.endswith(\".csv\")]\n",
    "\n",
    "    for file in files:\n",
    "        file_path = os.path.join(exchange_dir, file)\n",
    "        df = pd.read_csv(file_path)\n",
    "        \n",
    "        # Lấy thông tin cặp giao dịch từ tên file\n",
    "        pair = file.split(\"_\")[1]\n",
    "        \n",
    "        # Thêm cột thông tin\n",
    "        df[\"Pair\"] = pair\n",
    "        df[\"Exchange\"] = exchange\n",
    "        all_data.append(df)\n",
    "\n",
    "# Hợp nhất toàn bộ dữ liệu\n",
    "data = pd.concat(all_data, ignore_index=True)\n",
    "print(\"Dữ liệu ban đầu:\")\n",
    "print(data.head())\n"
   ],
   "id": "4394448f5f47b1b6",
   "outputs": [],
   "execution_count": null
  },
  {
   "metadata": {},
   "cell_type": "code",
   "source": [
    "# Lưu dữ liệu đã xử lý\n",
    "processed_file = os.path.join(processed_dir, \"data_concated.csv\")\n",
    "data.to_csv(processed_file, index=False)\n",
    "print(f\"Dữ liệu đã lưu tại: {processed_file}\")"
   ],
   "id": "6ef01c42d8bdfb51",
   "outputs": [],
   "execution_count": null
  },
  {
   "metadata": {},
   "cell_type": "markdown",
   "source": "### Phân Tích Dữ Liệu",
   "id": "a11625f28f9b8f87"
  },
  {
   "metadata": {},
   "cell_type": "markdown",
   "source": "#### Biểu đồ phân phối khối lượng giao dịch (Volume)",
   "id": "6210bf2c8d12c5f9"
  },
  {
   "metadata": {},
   "cell_type": "code",
   "source": [
    "# Vẽ biểu đồ phân phối Volume\n",
    "plt.figure(figsize=(10, 6))\n",
    "sns.histplot(data[\"Volume\"], bins=50, kde=True, color='blue')\n",
    "plt.title(\"Phân Phối Khối Lượng Giao Dịch (Volume)\")\n",
    "plt.xlabel(\"Volume\")\n",
    "plt.ylabel(\"Tần suất\")\n",
    "plt.savefig(os.path.join(plot_dir, \"volume_distribution.png\"))\n",
    "plt.show()"
   ],
   "id": "f115df2f9261e162",
   "outputs": [],
   "execution_count": null
  },
  {
   "metadata": {},
   "cell_type": "markdown",
   "source": "#### Biểu đồ biến động giá (Price Volatility)",
   "id": "f5366fd921c91fd8"
  },
  {
   "metadata": {},
   "cell_type": "code",
   "source": [
    "plt.figure(figsize=(12, 6))\n",
    "plt.plot(data[\"Timestamp\"], data[\"High\"], label='Giá Cao Nhất (High)', color='green')\n",
    "plt.plot(data[\"Timestamp\"], data[\"Low\"], label='Giá Thấp Nhất (Low)', color='red')\n",
    "plt.title(\"Biến Động Giá Theo Thời Gian\")\n",
    "plt.xlabel(\"Thời gian\")\n",
    "plt.ylabel(\"Giá\")\n",
    "plt.legend()\n",
    "plt.savefig(os.path.join(plot_dir, \"price_volatility.png\"))\n",
    "plt.show()\n"
   ],
   "id": "1ec27d76aefd8615",
   "outputs": [],
   "execution_count": null
  },
  {
   "metadata": {},
   "cell_type": "markdown",
   "source": "#### Ma trận tương quan giữa các đặc trưng",
   "id": "5a0051532bee4640"
  },
  {
   "metadata": {},
   "cell_type": "code",
   "source": [
    "plt.figure(figsize=(8, 6))\n",
    "correlation = df[[\"Open\", \"High\", \"Low\", \"Close\", \"Volume\"]].corr()\n",
    "sns.heatmap(correlation, annot=True, cmap='coolwarm', fmt='.2f')\n",
    "plt.title(\"Ma Trận Tương Quan Giữa Các Đặc Trưng\")\n",
    "plt.savefig(os.path.join(plot_dir, \"correlation_matrix.png\"))\n",
    "plt.show()\n"
   ],
   "id": "ed20073fd8838a82",
   "outputs": [],
   "execution_count": null
  },
  {
   "metadata": {},
   "cell_type": "markdown",
   "source": [
    "### Làm sạch dữ liệu\n",
    "Các bước bao gồm:  \n",
    "  Xóa dữ liệu trùng lặp.  \n",
    "  Loại bỏ các giao dịch không hợp lệ (giá trị âm, null).  \n",
    "  Chuyển đổi định dạng thời gian `Timestamp` sang datetime.  \n"
   ],
   "id": "7b0f6117ae404d20"
  },
  {
   "metadata": {},
   "cell_type": "code",
   "source": [
    "# Chuyển Timestamp sang datetime\n",
    "data[\"Timestamp\"] = pd.to_datetime(data[\"Timestamp\"])\n",
    "\n",
    "# Loại bỏ giá trị trùng lặp\n",
    "data.drop_duplicates(subset=[\"Timestamp\", \"Pair\", \"Exchange\"], inplace=True)\n",
    "\n",
    "# Sắp xếp dữ liệu\n",
    "data.sort_values(by=\"Timestamp\", inplace=True)\n",
    "print(data.info())\n"
   ],
   "id": "6b73c1514f8517d8",
   "outputs": [],
   "execution_count": null
  },
  {
   "metadata": {},
   "cell_type": "markdown",
   "source": [
    "#### Điền giá trị thiếu bằng phương pháp Linear Interpolation\n",
    "Phương pháp Linear Interpolation là một kỹ thuật để ước lượng và thay thế các giá trị bị thiếu (NaN) trong dữ liệu dựa trên các giá trị liền kề. "
   ],
   "id": "589400d10a77305"
  },
  {
   "metadata": {},
   "cell_type": "code",
   "source": [
    "# Kiểm tra giá trị thiếu\n",
    "missing_values = data.isnull().sum()\n",
    "print(\"Giá trị thiếu:\\n\", missing_values)\n",
    "\n",
    "# Điền giá trị thiếu bằng phương pháp Linear Interpolation\n",
    "data.interpolate(method=\"linear\", inplace=True)\n",
    "\n",
    "# Xác nhận lại không còn giá trị thiếu\n",
    "print(\"Giá trị thiếu after sau khi điền:\\n\", data.isnull().sum())\n"
   ],
   "id": "7f0464c27bf66bd6",
   "outputs": [],
   "execution_count": null
  },
  {
   "metadata": {},
   "cell_type": "markdown",
   "source": [
    "### Tạo đặc trưng (Feature Engineering)\n",
    "Chúng ta thêm các đặc trưng mới để hỗ trợ mô hình học máy:\n",
    "- **Tăng đột biến khối lượng (Volume Spike)**.\n",
    "- **Tỷ lệ thay đổi giá (Price Change %)**.\n",
    "- **Biến động giá (Volatility)**.\n"
   ],
   "id": "d67ae41950058291"
  },
  {
   "metadata": {},
   "cell_type": "code",
   "source": [
    "# Tính toán các đặc trưng mới\n",
    "data[\"Price_Change_Pct\"] = (data[\"Close\"] - data[\"Open\"]) / data[\"Open\"] * 100\n",
    "data[\"Volume_Spike\"] = data[\"Volume\"] / data[\"Volume\"].rolling(window=10).mean()\n",
    "data[\"Volatility\"] = data[\"High\"] - data[\"Low\"]\n",
    "\n",
    "# Điền NaN trong cột mới (do rolling tạo ra)\n",
    "data.fillna(0, inplace=True)\n",
    "\n",
    "\n",
    "print(\"Dữ liệu với đặc trưng mới:\")\n",
    "print(data[[\"Price_Change_Pct\", \"Volume_Spike\", \"Volatility\"]].head())\n"
   ],
   "id": "c62a7b965a6bb902",
   "outputs": [],
   "execution_count": null
  },
  {
   "metadata": {},
   "cell_type": "markdown",
   "source": [
    "### Chuẩn hoá dữ liệu\n",
    " \n",
    "\n",
    "Chuẩn hoá các cột cần thiết bằng MinMaxScaler."
   ],
   "id": "4416867186beb3af"
  },
  {
   "metadata": {},
   "cell_type": "code",
   "source": [
    "# Chuẩn hóa các cột\n",
    "scaler = MinMaxScaler()\n",
    "\n",
    "# Chuyển đổi Timestamp sang số giây kể từ 1970-01-01\n",
    "data[\"Timestamp\"] = (data[\"Timestamp\"] - pd.Timestamp(\"2018-4-20\")) / pd.Timedelta(seconds=1)\n",
    "\n",
    "columns_to_scale = [\"Open\", \"High\", \"Low\", \"Close\", \"Volume\"]\n",
    "data[columns_to_scale] = scaler.fit_transform(data[columns_to_scale])\n",
    "\n",
    "print(\"Dữ liệu sau chuẩn hóa:\")\n",
    "print(data.head())"
   ],
   "id": "90de888d95b4dc71",
   "outputs": [],
   "execution_count": null
  },
  {
   "metadata": {},
   "cell_type": "markdown",
   "source": "### Dán nhãn dữ liệu",
   "id": "d4e535c60f2a1f54"
  },
  {
   "metadata": {},
   "cell_type": "markdown",
   "source": [
    "Dán nhãn cho dữ liệu gồm 3 bước:\n",
    "- Dán nhãn dựa trên quy tắc: Price_Change_Pct, Volume_Spike, Volatility.\n",
    "- Dán nhãn dựa trên điểm bất thường: bằng Isolation Forest\n",
    "- Dán nhãn bẳng phân cụm"
   ],
   "id": "108b2c0191003123"
  },
  {
   "metadata": {},
   "cell_type": "markdown",
   "source": "#### Hàm dán nhãn theo quy tắc",
   "id": "ab147310d6bc5f64"
  },
  {
   "metadata": {},
   "cell_type": "code",
   "source": [
    "def statistical_rules(df):\n",
    "    # Tính các ngưỡng thống kê\n",
    "    price_change_threshold = df['Price_Change_Pct'].quantile(0.95)\n",
    "    volume_spike_threshold = df['Volume_Spike'].quantile(0.95)\n",
    "    volatility_threshold = df['Volatility'].quantile(0.95)\n",
    "\n",
    "    # Áp dụng quy tắc vectorized\n",
    "    price_anomaly = (abs(df['Price_Change_Pct']) > price_change_threshold)\n",
    "    volume_anomaly = (df['Volume_Spike'] > volume_spike_threshold)\n",
    "    volatility_anomaly = (df['Volatility'] > volatility_threshold)\n",
    "\n",
    "    # Kết hợp các điều kiện\n",
    "    return ((price_anomaly & volume_anomaly) |\n",
    "            (price_anomaly & volatility_anomaly) |\n",
    "            (volume_anomaly & volatility_anomaly)).astype(int)\n"
   ],
   "id": "c066514c5ba22c66",
   "outputs": [],
   "execution_count": null
  },
  {
   "metadata": {},
   "cell_type": "markdown",
   "source": "#### Hàm dán nhãn bằng Isolation Forest",
   "id": "ecbcaa16c167dbc9"
  },
  {
   "metadata": {},
   "cell_type": "code",
   "source": [
    "# Bước 2: Phát hiện bất thường bằng Isolation Forest với xử lý batch\n",
    "def isolation_forest_batch(df, batch_size=10000):\n",
    "    features = ['Open', 'High', 'Low', 'Close', 'Volume',\n",
    "               'Price_Change_Pct', 'Volume_Spike', 'Volatility']\n",
    "\n",
    "    scaler = StandardScaler()\n",
    "    scaled_features = scaler.fit_transform(df[features])\n",
    "\n",
    "    labels = np.zeros(len(df))\n",
    "\n",
    "    # Xử lý từng batch\n",
    "    for i in range(0, len(df), batch_size):\n",
    "        batch = scaled_features[i:i+batch_size]\n",
    "        iso_forest = IsolationForest(contamination=0.01, random_state=42)\n",
    "        batch_labels = (iso_forest.fit_predict(batch) == -1).astype(int)\n",
    "        labels[i:i+batch_size] = batch_labels\n",
    "\n",
    "    return labels\n"
   ],
   "id": "95527e03bb4b1dbc",
   "outputs": [],
   "execution_count": null
  },
  {
   "metadata": {},
   "cell_type": "markdown",
   "source": "#### Hàm dán nhãn bằng Clustering\n",
   "id": "5d2c9aaf63178d58"
  },
  {
   "metadata": {},
   "cell_type": "code",
   "source": [
    "# Bước 3: Phân cụm để phát hiện mẫu bất thường\n",
    "def cluster_anomalies(df, n_clusters=50):\n",
    "    features = ['Open', 'High', 'Low', 'Close', 'Volume',\n",
    "               'Price_Change_Pct', 'Volume_Spike', 'Volatility']\n",
    "\n",
    "    scaler = StandardScaler()\n",
    "    scaled_features = scaler.fit_transform(df[features])\n",
    "\n",
    "    # Sử dụng MiniBatchKMeans cho hiệu năng tốt hơn\n",
    "    kmeans = MiniBatchKMeans(n_clusters=n_clusters, random_state=42)\n",
    "    cluster_labels = kmeans.fit_predict(scaled_features)\n",
    "\n",
    "    # Đánh dấu các cụm nhỏ là bất thường\n",
    "    cluster_sizes = np.bincount(cluster_labels)\n",
    "    small_clusters = cluster_sizes < np.percentile(cluster_sizes, 10)\n",
    "    return np.isin(cluster_labels, np.where(small_clusters)[0]).astype(int)\n"
   ],
   "id": "6018eff2060d1187",
   "outputs": [],
   "execution_count": null
  },
  {
   "metadata": {},
   "cell_type": "code",
   "source": [
    "# Thực hiện 3 hàm trên\n",
    "labels_stats = statistical_rules(data)\n",
    "labels_iforest = isolation_forest_batch(data)\n",
    "labels_cluster = cluster_anomalies(data)"
   ],
   "id": "6c5f83a95a475c31",
   "outputs": [],
   "execution_count": null
  },
  {
   "metadata": {},
   "cell_type": "code",
   "source": [
    "# Kết hợp kết quả từ 3 phương pháp\n",
    "final_labels = ((labels_stats + labels_iforest + labels_cluster) >= 2).astype(int)\n",
    "data[\"Label\"] = final_labels"
   ],
   "id": "84088949447e647b",
   "outputs": [],
   "execution_count": null
  },
  {
   "metadata": {},
   "cell_type": "markdown",
   "source": "### Kiểm tra lại dữ liệu sau khi dán nhãn",
   "id": "cc12e9fa01606b76"
  },
  {
   "metadata": {},
   "cell_type": "markdown",
   "source": "#### Kiểm tra phân phối nhãn",
   "id": "fc3ebab2da8a66cd"
  },
  {
   "metadata": {},
   "cell_type": "code",
   "source": [
    "# Kiểm tra phân phối nhãn\n",
    "label_distribution = data[\"Label\"].value_counts()\n",
    "print(\"Phân phối nhãn:\\n\", label_distribution)\n",
    "\n",
    "# Vẽ biểu đồ phân phối nhãn\n",
    "plt.figure(figsize=(6, 4))\n",
    "sns.barplot(x=label_distribution.index, y=label_distribution.values, palette=\"coolwarm\")\n",
    "plt.title(\"Phân Phối Nhãn Trong Dữ Liệu\")\n",
    "plt.xlabel(\"Nhãn (Label)\")\n",
    "plt.ylabel(\"Số lượng mẫu\")\n",
    "plt.savefig(os.path.join(plot_dir, \"label_distribution.png\"))\n",
    "plt.show()"
   ],
   "id": "ed6516456a2868f",
   "outputs": [],
   "execution_count": null
  },
  {
   "metadata": {},
   "cell_type": "markdown",
   "source": "#### Phân tích tương quan sau khi dán nhãn",
   "id": "f95ce2dd6ca8cbe5"
  },
  {
   "metadata": {},
   "cell_type": "code",
   "source": [
    "correlation = data[[\"Timestamp\", \"Open\", \"High\", \"Low\", \"Close\", \"Volume\", \"Price_Change_Pct\", \"Volume_Spike\", \"Volatility\", \"Label\"]].corr()\n",
    "\n",
    "# Vẽ heatmap tương quan\n",
    "plt.figure(figsize=(8, 6))\n",
    "sns.heatmap(correlation, annot=True, cmap='coolwarm', fmt=\".2f\")\n",
    "plt.title(\"Ma Trận Tương Quan Giữa Các Đặc Trưng Và Nhãn\")\n",
    "plt.savefig(os.path.join(plot_dir, \"correlation_matrix_label.png\"))\n",
    "plt.show()"
   ],
   "id": "ba6b039ea5ccd1e0",
   "outputs": [],
   "execution_count": null
  },
  {
   "metadata": {},
   "cell_type": "markdown",
   "source": [
    "### Lưu dữ liệu\n",
    "Dữ liệu sau khi xử lý được lưu vào file `data/processed/data_processed.csv`.\n"
   ],
   "id": "2e871cc145343017"
  },
  {
   "metadata": {},
   "cell_type": "code",
   "source": [
    "# Lưu dữ liệu đã xử lý\n",
    "processed_file = os.path.join(processed_dir, \"data_processed.csv\")\n",
    "data.to_csv(processed_file, index=False)\n",
    "print(f\"Dữ liệu đã lưu tại: {processed_file}\")\n"
   ],
   "id": "b83035a4991e6669",
   "outputs": [],
   "execution_count": null
  }
 ],
 "metadata": {
  "kernelspec": {
   "display_name": "Python 3",
   "language": "python",
   "name": "python3"
  },
  "language_info": {
   "codemirror_mode": {
    "name": "ipython",
    "version": 2
   },
   "file_extension": ".py",
   "mimetype": "text/x-python",
   "name": "python",
   "nbconvert_exporter": "python",
   "pygments_lexer": "ipython2",
   "version": "2.7.6"
  }
 },
 "nbformat": 4,
 "nbformat_minor": 5
}
