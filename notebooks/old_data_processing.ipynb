{
 "cells": [
  {
   "metadata": {},
   "cell_type": "markdown",
   "source": [
    "# XỬ LÝ DỮ LIỆU OLD DATA\n",
    "Mục tiêu của notebook này là xử lý dữ liệu lịch sử (old data) đã thu thập.  \n",
    "Chúng ta sẽ làm sạch, tạo đặc trưng, và cân bằng dữ liệu (nếu cần thiết).\n"
   ],
   "id": "be4b428f564f34c3"
  },
  {
   "metadata": {},
   "cell_type": "markdown",
   "source": [
    "## CẤU TRÚC NOTEBOOK\n",
    "1. **Đọc dữ liệu**:  \n",
    "   Tải dữ liệu từ nguồn hoặc file đã lưu.\n",
    "2. **Làm sạch dữ liệu**:  \n",
    "   Xử lý giá trị thiếu, trùng lặp và chuyển đổi định dạng.\n",
    "3. **Tạo đặc trưng (Feature Engineering)**:  \n",
    "   Tạo thêm các chỉ số kỹ thuật.\n",
    "4. **Cân bằng dữ liệu**:  \n",
    "   Dùng SMOTE để cân bằng tập dữ liệu.\n",
    "5. **Lưu dữ liệu đã xử lý**:  \n",
    "   Lưu kết quả để sử dụng cho các bước tiếp theo.\n"
   ],
   "id": "a80acd6add83985e"
  },
  {
   "metadata": {},
   "cell_type": "markdown",
   "source": "#### Import các thư viện",
   "id": "9eb39f86fe36a2b"
  },
  {
   "metadata": {},
   "cell_type": "code",
   "source": [
    "import os\n",
    "import numpy as np\n",
    "import pandas as pd\n",
    "from sklearn.preprocessing import MinMaxScaler"
   ],
   "id": "60c5d7e0fdfc178d",
   "outputs": [],
   "execution_count": null
  },
  {
   "metadata": {},
   "cell_type": "markdown",
   "source": "#### Đường dẫn thư mục",
   "id": "3298c722277ecc96"
  },
  {
   "cell_type": "code",
   "id": "initial_id",
   "metadata": {
    "collapsed": true
   },
   "source": [
    "# Đường dẫn thư mục dữ liệu\n",
    "data_dir = \"../data/old_data/\"\n",
    "processed_dir = os.path.join(data_dir, \"processed\")\n",
    "\n",
    "# Tạo thư mục lưu trữ dữ liệu nếu chưa có\n",
    "os.makedirs(processed_dir, exist_ok=True)\n",
    "\n",
    "# Danh sách các sàn giao dịch\n",
    "exchanges = [\"binance\", \"bittrex\", \"kraken\", \"kucoin\", \"lbank\"]"
   ],
   "outputs": [],
   "execution_count": null
  },
  {
   "metadata": {},
   "cell_type": "markdown",
   "source": [
    "### Đọc dữ liệu\n",
    "Chúng ta sử dụng thư viện pandas để đọc dữ liệu từ thư mục `data/raw/old_data`.\n"
   ],
   "id": "3d644e0ad17896ce"
  },
  {
   "metadata": {},
   "cell_type": "code",
   "source": [
    "# Hợp nhất dữ liệu từ các file CSV\n",
    "all_data = []\n",
    "\n",
    "for exchange in exchanges:\n",
    "    exchange_dir = os.path.join(data_dir, \"raw\", exchange)\n",
    "    files = [f for f in os.listdir(exchange_dir) if f.endswith(\".csv\")]\n",
    "\n",
    "    for file in files:\n",
    "        file_path = os.path.join(exchange_dir, file)\n",
    "        df = pd.read_csv(file_path)\n",
    "        \n",
    "        # Lấy thông tin cặp giao dịch từ tên file\n",
    "        pair = file.split(\"_\")[1]\n",
    "        \n",
    "        # Thêm cột thông tin\n",
    "        df[\"Pair\"] = pair\n",
    "        df[\"Exchange\"] = exchange\n",
    "        all_data.append(df)\n",
    "\n",
    "# Hợp nhất toàn bộ dữ liệu\n",
    "data = pd.concat(all_data, ignore_index=True)\n",
    "print(\"Dữ liệu ban đầu:\")\n",
    "print(data.head())\n"
   ],
   "id": "4394448f5f47b1b6",
   "outputs": [],
   "execution_count": null
  },
  {
   "metadata": {},
   "cell_type": "markdown",
   "source": [
    "### Làm sạch dữ liệu\n",
    "Các bước bao gồm:  \n",
    "  Xóa dữ liệu trùng lặp.  \n",
    "  Loại bỏ các giao dịch không hợp lệ (giá trị âm, null).  \n",
    "  Chuyển đổi định dạng thời gian `Timestamp` sang datetime.  \n"
   ],
   "id": "7b0f6117ae404d20"
  },
  {
   "metadata": {},
   "cell_type": "code",
   "source": [
    "# Chuyển Timestamp sang datetime\n",
    "data[\"Timestamp\"] = pd.to_datetime(data[\"Timestamp\"])\n",
    "\n",
    "# Loại bỏ giá trị trùng lặp\n",
    "data.drop_duplicates(subset=[\"Timestamp\", \"Pair\", \"Exchange\"], inplace=True)\n",
    "\n",
    "# Sắp xếp dữ liệu\n",
    "data.sort_values(by=\"Timestamp\", inplace=True)\n",
    "print(data.info())\n"
   ],
   "id": "6b73c1514f8517d8",
   "outputs": [],
   "execution_count": null
  },
  {
   "metadata": {},
   "cell_type": "code",
   "source": [
    "# Kiểm tra giá trị thiếu\n",
    "missing_values = data.isnull().sum()\n",
    "print(\"Missing values:\\n\", missing_values)\n",
    "\n",
    "# Điền giá trị thiếu bằng phương pháp Linear Interpolation\n",
    "data.interpolate(method=\"linear\", inplace=True)\n",
    "\n",
    "# Xác nhận lại không còn giá trị thiếu\n",
    "print(\"Missing values after filling:\\n\", data.isnull().sum())\n"
   ],
   "id": "7f0464c27bf66bd6",
   "outputs": [],
   "execution_count": null
  },
  {
   "metadata": {},
   "cell_type": "markdown",
   "source": [
    "### Tạo đặc trưng (Feature Engineering)\n",
    "Chúng ta thêm các đặc trưng mới để hỗ trợ mô hình học máy:\n",
    "- **Biến động giá (Volatility)**.\n",
    "- **Tăng đột biến khối lượng (Volume Spike)**.\n",
    "- **Tỷ lệ thay đổi giá (Price Change %)**.\n"
   ],
   "id": "d67ae41950058291"
  },
  {
   "metadata": {},
   "cell_type": "code",
   "source": [
    "# Tính toán các đặc trưng mới\n",
    "data[\"Price_Change_Pct\"] = (data[\"Close\"] - data[\"Open\"]) / data[\"Open\"] * 100\n",
    "data[\"Volume_Spike\"] = data[\"Volume\"] / data[\"Volume\"].rolling(window=10).mean()\n",
    "data[\"Volatility\"] = data[\"High\"] - data[\"Low\"]\n",
    "\n",
    "# Điền NaN trong cột mới (do rolling tạo ra)\n",
    "data.fillna(0, inplace=True)\n",
    "\n",
    "\n",
    "print(\"Dữ liệu với đặc trưng mới:\")\n",
    "print(data[[\"Price_Change_Pct\", \"Volume_Spike\", \"Volatility\"]].head())\n"
   ],
   "id": "c62a7b965a6bb902",
   "outputs": [],
   "execution_count": null
  },
  {
   "metadata": {},
   "cell_type": "markdown",
   "source": [
    "### Chuẩn hoá dữ liệu\n",
    " \n",
    "\n",
    "Chuẩn hoá các cột cần thiết bằng MinMaxScaler."
   ],
   "id": "4416867186beb3af"
  },
  {
   "metadata": {},
   "cell_type": "code",
   "source": [
    "# Chuẩn hóa các cột\n",
    "scaler = MinMaxScaler()\n",
    "\n",
    "columns_to_scale = [\"Open\", \"High\", \"Low\", \"Close\", \"Volume\"]\n",
    "data[columns_to_scale] = scaler.fit_transform(data[columns_to_scale])\n",
    "\n",
    "print(\"Dữ liệu sau chuẩn hóa:\")\n",
    "print(data.head())"
   ],
   "id": "90de888d95b4dc71",
   "outputs": [],
   "execution_count": null
  },
  {
   "metadata": {},
   "cell_type": "markdown",
   "source": [
    "### Lưu dữ liệu\n",
    "Dữ liệu sau khi xử lý được lưu vào file `data/processed/data_processed.csv`.\n"
   ],
   "id": "2e871cc145343017"
  },
  {
   "metadata": {},
   "cell_type": "code",
   "source": [
    "# Lưu dữ liệu đã xử lý\n",
    "processed_file = os.path.join(processed_dir, \"data_processed.csv\")\n",
    "data.to_csv(processed_file, index=False)\n",
    "print(f\"Dữ liệu đã lưu tại: {processed_file}\")\n"
   ],
   "id": "b83035a4991e6669",
   "outputs": [],
   "execution_count": null
  }
 ],
 "metadata": {
  "kernelspec": {
   "display_name": "Python 3",
   "language": "python",
   "name": "python3"
  },
  "language_info": {
   "codemirror_mode": {
    "name": "ipython",
    "version": 2
   },
   "file_extension": ".py",
   "mimetype": "text/x-python",
   "name": "python",
   "nbconvert_exporter": "python",
   "pygments_lexer": "ipython2",
   "version": "2.7.6"
  }
 },
 "nbformat": 4,
 "nbformat_minor": 5
}
