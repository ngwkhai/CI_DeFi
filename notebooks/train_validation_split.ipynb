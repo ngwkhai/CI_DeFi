{
 "cells": [
  {
   "metadata": {},
   "cell_type": "markdown",
   "source": [
    "# CHIA DỮ LIỆU TRAINING \n",
    "Notebook này chia dữ liệu đã xử lý từ `old_data_processed.csv` thành các tập:\n",
    "- **Train**: Huấn luyện mô hình.\n",
    "- **Test**: Đánh giá mô hình trong quá trình huấn luyện.\n"
   ],
   "id": "415b682770faf8c"
  },
  {
   "metadata": {},
   "cell_type": "markdown",
   "source": "#### Khai báo thư viện",
   "id": "802b76d19bc5a07f"
  },
  {
   "metadata": {},
   "cell_type": "code",
   "source": [
    "# Import các thư viện cần thiết\n",
    "import os\n",
    "import pandas as pd\n",
    "from sklearn.model_selection import train_test_split\n",
    "from imblearn.over_sampling import SMOTE"
   ],
   "id": "8e27bf1c865295a9",
   "outputs": [],
   "execution_count": null
  },
  {
   "metadata": {},
   "cell_type": "markdown",
   "source": "#### Khai báo đường dẫn",
   "id": "73e3b23dfb49b7c4"
  },
  {
   "metadata": {},
   "cell_type": "code",
   "source": [
    "# Đường dẫn dữ liệu\n",
    "data_path = \"../data/old_data/processed/data_processed.csv\"\n",
    "split_dir = \"../data/old_data/splits\"\n",
    "os.makedirs(split_dir, exist_ok=True)"
   ],
   "id": "fc86c20dffbaf0bd",
   "outputs": [],
   "execution_count": null
  },
  {
   "metadata": {},
   "cell_type": "markdown",
   "source": [
    "### Tải dữ liệu\n",
    "Dữ liệu được tải từ file `old_data_processed.csv`.\n"
   ],
   "id": "6b5d081491d23b05"
  },
  {
   "cell_type": "code",
   "id": "initial_id",
   "metadata": {
    "collapsed": true
   },
   "source": [
    "# Đọc dữ liệu đã xử lý\n",
    "data = pd.read_csv(data_path)\n",
    "print(\"Dữ liệu ban đầu:\")\n",
    "print(data.head())\n"
   ],
   "outputs": [],
   "execution_count": null
  },
  {
   "metadata": {},
   "cell_type": "code",
   "source": [
    "# Xác định các cột đặc trưng và nhãn\n",
    "features = [\"Open\", \"High\", \"Low\", \"Close\", \"Volume\", \"Price_Change_Pct\", \"Volume_Spike\", \"Volatility\"]\n",
    "X = data[features]\n",
    "y = data[\"Label\"]\n",
    "\n",
    "print(\"Số lượng mẫu dữ liệu:\", X.shape[0])\n",
    "print(\"Phân phối nhãn:\\n\", y.value_counts())\n"
   ],
   "id": "5374203418c21ec",
   "outputs": [],
   "execution_count": null
  },
  {
   "metadata": {},
   "cell_type": "markdown",
   "source": [
    "### Chia dữ liệu\n",
    "Chúng ta sử dụng thư viện scikit-learn với hàm `train_test_split` để chia dữ liệu.  \n",
    "Dữ liệu được chia theo tỷ lệ 80% train và 20% test.\n"
   ],
   "id": "3747ce6c9d6d5fc0"
  },
  {
   "metadata": {},
   "cell_type": "code",
   "source": [
    "# Chia dữ liệu thành train (80%) và test (20%)\n",
    "X_train, X_test, y_train, y_test = train_test_split(X, y, test_size=0.2, random_state=42, stratify=y)\n",
    "\n",
    "print(f\"Kích thước tập huấn luyện: {X_train.shape[0]}\")\n",
    "print(f\"Kích thước tập kiểm tra: {X_test.shape[0]}\")\n"
   ],
   "id": "52b5e8a7557d5057",
   "outputs": [],
   "execution_count": null
  },
  {
   "metadata": {},
   "cell_type": "markdown",
   "source": [
    "### Cân bằng dữ liệu\n",
    "SMOTE được áp dụng để giải quyết vấn đề mất cân bằng dữ liệu (quá nhiều nhãn 0 so với nhãn 1).  \n"
   ],
   "id": "1d2854df3ca1b8da"
  },
  {
   "metadata": {},
   "cell_type": "code",
   "source": [
    "# Khởi tạo SMOTE\n",
    "smote = SMOTE(random_state=42)\n",
    "\n",
    "# Tạo dữ liệu cân bằng\n",
    "X_train_balanced, y_train_balanced = smote.fit_resample(X_train, y_train)\n",
    "\n",
    "# Kiểm tra lại phân phối nhãn sau SMOTE\n",
    "print(\"Phân phối nhãn sau SMOTE:\")\n",
    "print(pd.Series(y_train_balanced).value_counts())\n"
   ],
   "id": "debe1944aa4857f1",
   "outputs": [],
   "execution_count": null
  },
  {
   "metadata": {},
   "cell_type": "markdown",
   "source": [
    "### Lưu tập dữ liệu\n",
    "- **Train**: Lưu vào `data/old_data/splits/X_train.csv` và `data/old_data/splits/y_train.csv`.\n",
    "- **Test**: Lưu vào `data/old_data/splits/X_test.csv` và `data/old_data/splits/y_test.csv`.\n"
   ],
   "id": "930e34e156a92a1c"
  },
  {
   "metadata": {},
   "cell_type": "code",
   "source": [
    "# Lưu tập train và test\n",
    "X_train_balanced.to_csv(f\"{split_dir}/X_train.csv\", index=False)\n",
    "y_train_balanced.to_csv(f\"{split_dir}/y_train.csv\", index=False)\n",
    "\n",
    "X_test.to_csv(f\"{split_dir}/X_test.csv\", index=False)\n",
    "y_test.to_csv(f\"{split_dir}/y_test.csv\", index=False)\n",
    "\n",
    "print(\"Dữ liệu đã được chia và lưu tại:\", split_dir)\n"
   ],
   "id": "634d16873a94232c",
   "outputs": [],
   "execution_count": null
  }
 ],
 "metadata": {
  "kernelspec": {
   "display_name": "Python 3",
   "language": "python",
   "name": "python3"
  },
  "language_info": {
   "codemirror_mode": {
    "name": "ipython",
    "version": 2
   },
   "file_extension": ".py",
   "mimetype": "text/x-python",
   "name": "python",
   "nbconvert_exporter": "python",
   "pygments_lexer": "ipython2",
   "version": "2.7.6"
  }
 },
 "nbformat": 4,
 "nbformat_minor": 5
}
