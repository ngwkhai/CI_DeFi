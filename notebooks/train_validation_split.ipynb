{
 "cells": [
  {
   "cell_type": "code",
   "id": "initial_id",
   "metadata": {
    "collapsed": true,
    "ExecuteTime": {
     "end_time": "2024-11-29T06:54:02.205081Z",
     "start_time": "2024-11-29T06:54:00.386559Z"
    }
   },
   "source": [
    "import os\n",
    "# Import các thư viện cần thiết\n",
    "\n",
    "import pandas as pd\n",
    "from sklearn.model_selection import train_test_split\n",
    "\n",
    "# Đường dẫn dữ liệu\n",
    "data_path = \"../data/old_data/processed/data_processed.csv\"\n",
    "split_dir = \"../data/old_data/splits\"\n",
    "os.makedirs(split_dir, exist_ok=True)\n",
    "\n",
    "# Đọc dữ liệu đã xử lý\n",
    "data = pd.read_csv(data_path)\n",
    "print(\"Dữ liệu ban đầu:\")\n",
    "print(data.head())\n"
   ],
   "outputs": [
    {
     "name": "stdout",
     "output_type": "stream",
     "text": [
      "Dữ liệu ban đầu:\n",
      "   Unnamed: 0            Timestamp          Open          High           Low  \\\n",
      "0           0  2018-04-20 00:00:00  2.968710e-08  2.981171e-08  2.985985e-08   \n",
      "1           0  2018-04-20 00:00:00  5.611265e-11  5.626842e-11  5.581456e-11   \n",
      "2           0  2018-04-20 00:00:00  4.974454e-11  5.001026e-11  5.026829e-11   \n",
      "3           0  2018-04-20 00:00:00  1.484172e-09  1.511651e-09  1.499799e-09   \n",
      "4           0  2018-04-20 00:00:00  5.480045e-09  5.497445e-09  5.407188e-09   \n",
      "\n",
      "          Close    Volume     Pair Exchange  Price_Change_Pct  Volume_Spike  \\\n",
      "0  2.959089e-08  0.000001  ETC-ETH  binance         -0.324074           0.0   \n",
      "1  5.605767e-11  0.000108  AST-BTC  binance         -0.097640           0.0   \n",
      "2  4.974454e-11  0.000059  LYM-ETH   kucoin          0.000000           0.0   \n",
      "3  1.511661e-09  0.000003  BTM-ETH   kucoin          1.851852           0.0   \n",
      "4  5.360930e-09  0.000052  ICX-ETH  binance         -2.173550           0.0   \n",
      "\n",
      "     Volatility  Anomaly_Score  Label  \n",
      "0  2.870000e-04              1      0  \n",
      "1  1.140000e-06              1      0  \n",
      "2  3.000000e-07              1      0  \n",
      "3  3.000000e-05              1      0  \n",
      "4  1.600000e-04              1      0  \n"
     ]
    }
   ],
   "execution_count": 13
  },
  {
   "metadata": {
    "ExecuteTime": {
     "end_time": "2024-11-29T06:54:02.337705Z",
     "start_time": "2024-11-29T06:54:02.290277Z"
    }
   },
   "cell_type": "code",
   "source": [
    "# Xác định các cột đặc trưng và nhãn\n",
    "features = [\"Open\", \"High\", \"Low\", \"Close\", \"Volume\", \"Price_Change_Pct\", \"Volume_Spike\", \"Volatility\"]\n",
    "X = data[features]\n",
    "y = data[\"Label\"]\n",
    "\n",
    "print(\"Số lượng mẫu dữ liệu:\", X.shape[0])\n",
    "print(\"Phân phối nhãn:\\n\", y.value_counts())\n"
   ],
   "id": "5374203418c21ec",
   "outputs": [
    {
     "name": "stdout",
     "output_type": "stream",
     "text": [
      "Số lượng mẫu dữ liệu: 468955\n",
      "Phân phối nhãn:\n",
      " Label\n",
      "0    464266\n",
      "1      4689\n",
      "Name: count, dtype: int64\n"
     ]
    }
   ],
   "execution_count": 14
  },
  {
   "metadata": {
    "ExecuteTime": {
     "end_time": "2024-11-29T06:54:02.712660Z",
     "start_time": "2024-11-29T06:54:02.487906Z"
    }
   },
   "cell_type": "code",
   "source": [
    "# Chia dữ liệu thành train (70%) và temp (30% cho validation và test)\n",
    "X_train, X_test, y_train, y_test = train_test_split(X, y, test_size=0.2, random_state=42, stratify=y)\n",
    "\n",
    "print(f\"Kích thước tập huấn luyện: {X_train.shape[0]}\")\n",
    "print(f\"Kích thước tập kiểm tra: {X_test.shape[0]}\")\n"
   ],
   "id": "52b5e8a7557d5057",
   "outputs": [
    {
     "name": "stdout",
     "output_type": "stream",
     "text": [
      "Kích thước tập huấn luyện: 375164\n",
      "Kích thước tập kiểm tra: 93791\n"
     ]
    }
   ],
   "execution_count": 15
  },
  {
   "metadata": {
    "ExecuteTime": {
     "end_time": "2024-11-29T06:54:04.493026Z",
     "start_time": "2024-11-29T06:54:02.790506Z"
    }
   },
   "cell_type": "code",
   "source": [
    "# %%\n",
    "from imblearn.over_sampling import SMOTE\n",
    "\n",
    "# Khởi tạo SMOTE\n",
    "smote = SMOTE(random_state=42)\n",
    "\n",
    "# Tạo dữ liệu cân bằng\n",
    "X_train_balanced, y_train_balanced = smote.fit_resample(X_train, y_train)\n",
    "\n",
    "# Kiểm tra lại phân phối nhãn sau SMOTE\n",
    "print(\"Phân phối nhãn sau SMOTE:\")\n",
    "print(pd.Series(y_train_balanced).value_counts())\n"
   ],
   "id": "debe1944aa4857f1",
   "outputs": [
    {
     "name": "stdout",
     "output_type": "stream",
     "text": [
      "Phân phối nhãn sau SMOTE:\n",
      "Label\n",
      "0    371413\n",
      "1    371413\n",
      "Name: count, dtype: int64\n"
     ]
    }
   ],
   "execution_count": 16
  },
  {
   "metadata": {
    "ExecuteTime": {
     "end_time": "2024-11-29T06:54:15.015407Z",
     "start_time": "2024-11-29T06:54:04.550176Z"
    }
   },
   "cell_type": "code",
   "source": [
    "# Lưu tập train, validation, và test\n",
    "X_train_balanced.to_csv(f\"{split_dir}/X_train.csv\", index=False)\n",
    "y_train_balanced.to_csv(f\"{split_dir}/y_train.csv\", index=False)\n",
    "\n",
    "X_test.to_csv(f\"{split_dir}/X_test.csv\", index=False)\n",
    "y_test.to_csv(f\"{split_dir}/y_test.csv\", index=False)\n",
    "\n",
    "print(\"Dữ liệu đã được chia và lưu tại:\", split_dir)\n"
   ],
   "id": "634d16873a94232c",
   "outputs": [
    {
     "name": "stdout",
     "output_type": "stream",
     "text": [
      "Dữ liệu đã được chia và lưu tại: ../data/old_data/splits\n"
     ]
    }
   ],
   "execution_count": 17
  }
 ],
 "metadata": {
  "kernelspec": {
   "display_name": "Python 3",
   "language": "python",
   "name": "python3"
  },
  "language_info": {
   "codemirror_mode": {
    "name": "ipython",
    "version": 2
   },
   "file_extension": ".py",
   "mimetype": "text/x-python",
   "name": "python",
   "nbconvert_exporter": "python",
   "pygments_lexer": "ipython2",
   "version": "2.7.6"
  }
 },
 "nbformat": 4,
 "nbformat_minor": 5
}
