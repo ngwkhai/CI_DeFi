{
 "cells": [
  {
   "metadata": {},
   "cell_type": "markdown",
   "source": [
    "# HUẤN LUYỆN MÔ HÌNH SVM\n",
    "Notebook này thực hiện huấn luyện mô hình SVM để phát hiện giao dịch gian lận.\n"
   ],
   "id": "5859dbee324d6b76"
  },
  {
   "metadata": {},
   "cell_type": "markdown",
   "source": "#### Khai báo thư viện",
   "id": "cdccaf6f37b0ef2f"
  },
  {
   "metadata": {},
   "cell_type": "code",
   "outputs": [],
   "execution_count": null,
   "source": [
    "# Import các thư viện\n",
    "import pandas as pd\n",
    "import numpy as np\n",
    "from sklearn.svm import SVC\n",
    "from sklearn.metrics import classification_report, confusion_matrix\n",
    "from tensorflow.keras.models import load_model\n",
    "\n",
    "from sklearn.svm import SVC\n",
    "import joblib"
   ],
   "id": "502114787ab6fa9e"
  },
  {
   "metadata": {},
   "cell_type": "markdown",
   "source": "#### Khai báo đường dẫn",
   "id": "99f0e02511db54c2"
  },
  {
   "metadata": {},
   "cell_type": "code",
   "outputs": [],
   "execution_count": null,
   "source": [
    "# Đường dẫn dữ liệu và mô hình\n",
    "split_dir = \"../data/old_data/splits\"\n",
    "model_dir = \"../models\"\n",
    "svm_model_path = f\"{model_dir}/svm_model.pkl\""
   ],
   "id": "7e3099686e851a0b"
  },
  {
   "metadata": {},
   "cell_type": "markdown",
   "source": [
    "### Tải dữ liệu\n",
    "Dữ liệu train và test được đọc từ các file đã chia.\n"
   ],
   "id": "75d65bb0aea11e76"
  },
  {
   "cell_type": "code",
   "id": "initial_id",
   "metadata": {
    "collapsed": true,
    "ExecuteTime": {
     "end_time": "2024-11-29T07:22:38.111806Z",
     "start_time": "2024-11-29T07:22:36.582566Z"
    }
   },
   "source": [
    "# Đọc dữ liệu\n",
    "X_train = pd.read_csv(f\"{split_dir}/X_train.csv\")\n",
    "y_train = pd.read_csv(f\"{split_dir}/y_train.csv\")\n",
    "X_test = pd.read_csv(f\"{split_dir}/X_test.csv\")\n",
    "y_test = pd.read_csv(f\"{split_dir}/y_test.csv\")\n",
    "\n",
    "# Kiểm tra dữ liệu\n",
    "print(f\"Kích thước tập train: {X_train.shape}\")\n",
    "print(f\"Kích thước tập test: {X_test.shape}\")\n"
   ],
   "outputs": [
    {
     "name": "stdout",
     "output_type": "stream",
     "text": [
      "Kích thước tập train: (742826, 8)\n",
      "Kích thước tập test: (93791, 8)\n"
     ]
    }
   ],
   "execution_count": 2
  },
  {
   "metadata": {},
   "cell_type": "markdown",
   "source": "### Tải và trích xuất đặc trưng từ ANN",
   "id": "217fdcd7a986d810"
  },
  {
   "metadata": {
    "ExecuteTime": {
     "end_time": "2024-11-29T07:23:10.297529Z",
     "start_time": "2024-11-29T07:22:38.198054Z"
    }
   },
   "cell_type": "code",
   "source": [
    "# Tải mô hình ANN đã huấn luyện\n",
    "ann_model = load_model(f\"{model_dir}/ann_model.keras\")\n",
    "\n",
    "# Trích xuất đặc trưng từ ANN\n",
    "X_train_features = ann_model.predict(X_train)\n",
    "X_test_features = ann_model.predict(X_test)\n",
    "\n",
    "# Kiểm tra kích thước đặc trưng\n",
    "print(f\"Kích thước đặc trưng tập train: {X_train_features.shape}\")\n",
    "print(f\"Kích thước đặc trưng tập test: {X_test_features.shape}\")\n"
   ],
   "id": "b7d7e174981ff2f2",
   "outputs": [
    {
     "name": "stdout",
     "output_type": "stream",
     "text": [
      "\u001B[1m23214/23214\u001B[0m \u001B[32m━━━━━━━━━━━━━━━━━━━━\u001B[0m\u001B[37m\u001B[0m \u001B[1m20s\u001B[0m 841us/step\n",
      "\u001B[1m2931/2931\u001B[0m \u001B[32m━━━━━━━━━━━━━━━━━━━━\u001B[0m\u001B[37m\u001B[0m \u001B[1m2s\u001B[0m 818us/step\n",
      "Kích thước đặc trưng tập train: (742826, 1)\n",
      "Kích thước đặc trưng tập test: (93791, 1)\n"
     ]
    }
   ],
   "execution_count": 3
  },
  {
   "metadata": {},
   "cell_type": "markdown",
   "source": [
    "### Huấn luyện SVM\n",
    "Mô hình SVM được cấu hình với: Kernel: Linear.\n"
   ],
   "id": "fc389c48f00acc70"
  },
  {
   "metadata": {
    "ExecuteTime": {
     "end_time": "2024-11-29T08:39:11.645900Z",
     "start_time": "2024-11-29T07:23:10.333880Z"
    }
   },
   "cell_type": "code",
   "source": [
    "# Khởi tạo và huấn luyện SVM\n",
    "svm_model = SVC(kernel='rbf', probability=True, class_weight='balanced', random_state=42)\n",
    "svm_model.fit(X_train_features, y_train.values.ravel())\n"
   ],
   "id": "646a2e8d0d0e8daf",
   "outputs": [
    {
     "name": "stdout",
     "output_type": "stream",
     "text": [
      "Mô hình SVM đã được lưu tại: ../models/svm_model.pkl\n"
     ]
    }
   ],
   "execution_count": 4
  },
  {
   "metadata": {},
   "cell_type": "markdown",
   "source": [
    "### Lưu mô hình SVM\n",
    "Mô hình được lưu vào file `models/svm_model.pkl`.\n"
   ],
   "id": "7e90f8c3d8aec37a"
  },
  {
   "metadata": {},
   "cell_type": "code",
   "outputs": [],
   "execution_count": null,
   "source": [
    "# Lưu mô hình SVM\n",
    "joblib.dump(svm_model, svm_model_path)\n",
    "print(f\"Mô hình SVM đã được lưu tại: {svm_model_path}\")"
   ],
   "id": "d0eea207228a00e"
  },
  {
   "metadata": {},
   "cell_type": "markdown",
   "source": "### Kết quả báo cáo",
   "id": "3295d0fa5b5351bd"
  },
  {
   "metadata": {
    "ExecuteTime": {
     "end_time": "2024-11-29T08:39:21.996334Z",
     "start_time": "2024-11-29T08:39:11.738551Z"
    }
   },
   "cell_type": "code",
   "source": [
    "# Dự đoán trên tập validation\n",
    "y_test_pred = svm_model.predict(X_test_features)\n",
    "\n",
    "# Confusion Matrix\n",
    "conf_matrix = confusion_matrix(y_test, y_test_pred)\n",
    "print(\"Confusion Matrix:\\n\", conf_matrix)\n",
    "\n",
    "# Báo cáo chi tiết\n",
    "print(\"Classification Report:\\n\", classification_report(y_test, y_test_pred))\n"
   ],
   "id": "42692d9400a64e22",
   "outputs": [
    {
     "name": "stdout",
     "output_type": "stream",
     "text": [
      "Confusion Matrix:\n",
      " [[92749   104]\n",
      " [    0   938]]\n",
      "Classification Report:\n",
      "               precision    recall  f1-score   support\n",
      "\n",
      "           0       1.00      1.00      1.00     92853\n",
      "           1       0.90      1.00      0.95       938\n",
      "\n",
      "    accuracy                           1.00     93791\n",
      "   macro avg       0.95      1.00      0.97     93791\n",
      "weighted avg       1.00      1.00      1.00     93791\n",
      "\n"
     ]
    }
   ],
   "execution_count": 5
  }
 ],
 "metadata": {
  "kernelspec": {
   "display_name": "Python 3",
   "language": "python",
   "name": "python3"
  },
  "language_info": {
   "codemirror_mode": {
    "name": "ipython",
    "version": 2
   },
   "file_extension": ".py",
   "mimetype": "text/x-python",
   "name": "python",
   "nbconvert_exporter": "python",
   "pygments_lexer": "ipython2",
   "version": "2.7.6"
  }
 },
 "nbformat": 4,
 "nbformat_minor": 5
}
