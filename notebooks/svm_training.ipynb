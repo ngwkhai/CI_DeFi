{
 "cells": [
  {
   "metadata": {},
   "cell_type": "markdown",
   "source": [
    "# HUẤN LUYỆN MÔ HÌNH SVM\n",
    "Thực hiện huấn luyện mô hình SVM dựa trên các đặc trưng đã được trích suất từ ANN để phát hiện giao dịch gian lận.\n"
   ],
   "id": "5859dbee324d6b76"
  },
  {
   "metadata": {},
   "cell_type": "markdown",
   "source": "#### Khai báo thư viện",
   "id": "cdccaf6f37b0ef2f"
  },
  {
   "metadata": {},
   "cell_type": "code",
   "source": [
    "# Import các thư viện\n",
    "import os\n",
    "import pandas as pd\n",
    "import numpy as np\n",
    "from keras import Model\n",
    "from keras.src.saving import load_model\n",
    "from sklearn.svm import SVC\n",
    "import matplotlib.pyplot as plt\n",
    "from sklearn.metrics import classification_report, confusion_matrix, ConfusionMatrixDisplay\n",
    "import joblib\n",
    "from sklearn.decomposition import PCA\n",
    "from sklearn.metrics import roc_curve, auc\n",
    "from sklearn.preprocessing import StandardScaler"
   ],
   "id": "502114787ab6fa9e",
   "outputs": [],
   "execution_count": null
  },
  {
   "metadata": {},
   "cell_type": "markdown",
   "source": "#### Khai báo đường dẫn",
   "id": "99f0e02511db54c2"
  },
  {
   "metadata": {},
   "cell_type": "code",
   "source": [
    "# Đường dẫn dữ liệu và mô hình\n",
    "split_dir = \"../data/old_data/splits\"\n",
    "model_dir = \"../models\"\n",
    "svm_model_path = f\"{model_dir}/svm_model.pkl\"\n",
    "plot_dir = \"../plots\""
   ],
   "id": "7e3099686e851a0b",
   "outputs": [],
   "execution_count": null
  },
  {
   "metadata": {},
   "cell_type": "markdown",
   "source": [
    "### Tải dữ liệu\n",
    "Dữ liệu train và test được đọc từ các file đã chia.\n"
   ],
   "id": "75d65bb0aea11e76"
  },
  {
   "cell_type": "code",
   "id": "initial_id",
   "metadata": {
    "collapsed": true
   },
   "source": [
    "# Đọc dữ liệu\n",
    "X_train = pd.read_csv(f\"{split_dir}/X_train.csv\")\n",
    "y_train = pd.read_csv(f\"{split_dir}/y_train.csv\")\n",
    "X_test = pd.read_csv(f\"{split_dir}/X_test.csv\")\n",
    "y_test = pd.read_csv(f\"{split_dir}/y_test.csv\")\n",
    "\n",
    "# Kiểm tra dữ liệu\n",
    "print(f\"Kích thước tập train: {X_train.shape}\")\n",
    "print(f\"Kích thước tập test: {X_test.shape}\")\n"
   ],
   "outputs": [],
   "execution_count": null
  },
  {
   "metadata": {},
   "cell_type": "markdown",
   "source": "### Tải và trích xuất đặc trưng từ ANN",
   "id": "217fdcd7a986d810"
  },
  {
   "metadata": {},
   "cell_type": "code",
   "source": [
    "# Tải mô hình ANN đã huấn luyện\n",
    "ann_model = load_model(f\"{model_dir}/ann_model.keras\")\n",
    "\n",
    "# Xem kiến trúc mô hình đã tải\n",
    "ann_model.summary()"
   ],
   "id": "4156255117af54ef",
   "outputs": [],
   "execution_count": null
  },
  {
   "metadata": {},
   "cell_type": "code",
   "source": [
    "feature_extractor = Model(inputs=ann_model.inputs, outputs=ann_model.layers[-2].output)\n",
    "\n",
    "# Trích xuất đặc trưng\n",
    "X_train_features = feature_extractor.predict(X_train)\n",
    "X_test_features = feature_extractor.predict(X_test)\n",
    "\n",
    "print(f\"Kích thước đặc trưng tập train: {X_train_features.shape}\")\n",
    "print(f\"Kích thước đặc trưng tập test: {X_test_features.shape}\")\n"
   ],
   "id": "8ac9ee7202c8025a",
   "outputs": [],
   "execution_count": null
  },
  {
   "metadata": {},
   "cell_type": "markdown",
   "source": [
    "### Huấn luyện SVM\n",
    "Mô hình SVM được cấu hình với: Kernel: Linear.\n"
   ],
   "id": "fc389c48f00acc70"
  },
  {
   "metadata": {},
   "cell_type": "code",
   "source": [
    "# Khởi tạo và huấn luyện SVM\n",
    "svm_model = SVC(kernel='rbf', probability=True, class_weight='balanced', random_state=42)\n",
    "svm_model.fit(X_train_features, y_train.values.ravel())\n"
   ],
   "id": "646a2e8d0d0e8daf",
   "outputs": [],
   "execution_count": null
  },
  {
   "metadata": {},
   "cell_type": "markdown",
   "source": [
    "### Lưu mô hình SVM\n",
    "Mô hình được lưu vào file `models/svm_model.pkl`.\n"
   ],
   "id": "7e90f8c3d8aec37a"
  },
  {
   "metadata": {},
   "cell_type": "code",
   "source": [
    "# Lưu mô hình SVM\n",
    "joblib.dump(svm_model, svm_model_path)\n",
    "print(f\"Mô hình SVM đã được lưu tại: {svm_model_path}\")"
   ],
   "id": "d0eea207228a00e",
   "outputs": [],
   "execution_count": null
  },
  {
   "metadata": {},
   "cell_type": "markdown",
   "source": "### Đánh giá mô hình",
   "id": "3295d0fa5b5351bd"
  },
  {
   "metadata": {},
   "cell_type": "markdown",
   "source": "#### Ma trận nhầm lẫn (Confusion Matrix)",
   "id": "177edee5ab191b60"
  },
  {
   "metadata": {},
   "cell_type": "code",
   "source": [
    "# Dự đoán trên tập test\n",
    "y_test_pred = svm_model.predict(X_test_features)\n",
    "\n",
    "# Confusion Matrix\n",
    "conf_matrix = confusion_matrix(y_test, y_test_pred)\n",
    "print(\"Confusion Matrix:\\n\", conf_matrix)\n",
    "\n",
    "# Báo cáo chi tiết\n",
    "print(\"Classification Report:\\n\", classification_report(y_test, y_test_pred))\n",
    "\n",
    "disp = ConfusionMatrixDisplay(confusion_matrix=conf_matrix, display_labels=[\"Không Gian Lận\", \"Gian Lận\"])\n",
    "disp.plot(cmap='Blues', values_format='d')\n",
    "plt.title(\"Ma Trận Nhầm Lẫn\")\n",
    "plt.savefig(os.path.join(f\"{plot_dir}/evaluation\", \"confusion_matrix.png\"))\n",
    "plt.show()\n",
    "\n"
   ],
   "id": "42692d9400a64e22",
   "outputs": [],
   "execution_count": null
  },
  {
   "metadata": {},
   "cell_type": "markdown",
   "source": "#### Biểu đồ ROC",
   "id": "84d37dd2fec95c32"
  },
  {
   "metadata": {},
   "cell_type": "code",
   "source": "svm_model = joblib.load(svm_model_path)",
   "id": "eaa3a93fc9d82b67",
   "outputs": [],
   "execution_count": null
  },
  {
   "metadata": {},
   "cell_type": "code",
   "source": [
    "# Tính ROC Curve\n",
    "fpr, tpr, _ = roc_curve(y_test, svm_model.decision_function(X_test))\n",
    "roc_auc = auc(fpr, tpr)\n",
    "\n",
    "# Vẽ Biểu Đồ ROC\n",
    "plt.figure(figsize=(10, 6))\n",
    "plt.plot(fpr, tpr, color='darkorange', lw=2, label=f'ROC Curve (AUC = {roc_auc:.2f})')\n",
    "plt.plot([0, 1], [0, 1], color='navy', lw=2, linestyle='--')\n",
    "plt.title(\"Biểu Đồ ROC\")\n",
    "plt.xlabel(\"False Positive Rate\")\n",
    "plt.ylabel(\"True Positive Rate\")\n",
    "plt.legend(loc=\"lower right\")\n",
    "plt.savefig(os.path.join(f\"{plot_dir}/evaluation\", \"roc_curve.png\"))\n",
    "plt.show()"
   ],
   "id": "66d67408fea934f3",
   "outputs": [],
   "execution_count": null
  }
 ],
 "metadata": {
  "kernelspec": {
   "display_name": "Python 3",
   "language": "python",
   "name": "python3"
  },
  "language_info": {
   "codemirror_mode": {
    "name": "ipython",
    "version": 2
   },
   "file_extension": ".py",
   "mimetype": "text/x-python",
   "name": "python",
   "nbconvert_exporter": "python",
   "pygments_lexer": "ipython2",
   "version": "2.7.6"
  }
 },
 "nbformat": 4,
 "nbformat_minor": 5
}
