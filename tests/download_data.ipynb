{
 "cells": [
  {
   "metadata": {},
   "cell_type": "markdown",
   "source": "# THU THẬP DỮ LIỆU",
   "id": "71a15f8c128fe9d9"
  },
  {
   "metadata": {},
   "cell_type": "markdown",
   "source": "",
   "id": "9cef394aa5ba6932"
  },
  {
   "metadata": {
    "ExecuteTime": {
     "end_time": "2024-11-26T21:02:11.716865Z",
     "start_time": "2024-11-26T21:02:11.709542Z"
    }
   },
   "cell_type": "code",
   "source": [
    "import requests\n",
    "import pandas as pd\n",
    "import time"
   ],
   "id": "2399a727b3bcfdc9",
   "outputs": [],
   "execution_count": 87
  },
  {
   "metadata": {
    "ExecuteTime": {
     "end_time": "2024-11-26T21:02:11.729732Z",
     "start_time": "2024-11-26T21:02:11.724165Z"
    }
   },
   "cell_type": "code",
   "source": [
    "# Bảng ánh xạ cặp giao dịch phổ biến cho mỗi sàn\n",
    "symbol_mapping = {\n",
    "    \"Binance\": [\"BTCUSDT\", \"ETHUSDT\", \"BNBUSDT\", \"XRPUSDT\", \"ADAUSDT\"],\n",
    "    \"Coinbase\": [\"BTC-USD\", \"ETH-USD\", \"LTC-USD\", \"BCH-USD\", \"ADA-USD\"],\n",
    "    \"KuCoin\": [\"BTC-USDT\", \"ETH-USDT\", \"XRP-USDT\", \"BNB-USDT\", \"ADA-USDT\"],\n",
    "    \"Kraken\": [\"XXBTZUSD\", \"XETHZUSD\", \"XXRPZUSD\", \"WBTCUSD\", \"ADAUSD\"]\n",
    "}"
   ],
   "id": "8a3bf709789be124",
   "outputs": [],
   "execution_count": 88
  },
  {
   "cell_type": "code",
   "id": "initial_id",
   "metadata": {
    "collapsed": true,
    "ExecuteTime": {
     "end_time": "2024-11-26T21:02:11.778083Z",
     "start_time": "2024-11-26T21:02:11.760313Z"
    }
   },
   "source": [
    "def fetch_binance_klines(symbol, interval='1m', limit=1000, max_records=5000):\n",
    "    url = \"https://api.binance.com/api/v1/klines\"\n",
    "    all_data = []\n",
    "    \n",
    "    while len(all_data) < max_records:\n",
    "        params = {\n",
    "            \"symbol\": symbol,\n",
    "            \"interval\": interval,  # Khoảng thời gian của mỗi nến (ví dụ: 1m, 5m, 1h, 1d, ...)\n",
    "            \"limit\": limit  # Tối đa 1000 nến mỗi lần\n",
    "        }\n",
    "        \n",
    "        response = requests.get(url, params=params)\n",
    "        data = response.json()\n",
    "        \n",
    "        # Kiểm tra dữ liệu trả về\n",
    "        if not data:\n",
    "            print(f\"No data returned for {symbol}.\")\n",
    "            break\n",
    "        \n",
    "        # Kiểm tra cấu trúc dữ liệu trả về\n",
    "        if isinstance(data, list) and len(data) > 0:\n",
    "            all_data.extend(data)\n",
    "        else:\n",
    "            print(f\"Unexpected data structure for {symbol}: {data}\")\n",
    "            break\n",
    "\n",
    "        time.sleep(0.5)  # Tránh vượt quá giới hạn API\n",
    "\n",
    "    if not all_data:\n",
    "        print(f\"No data collected for {symbol}.\")\n",
    "        return pd.DataFrame()  # Trả về DataFrame rỗng nếu không có dữ liệu\n",
    "\n",
    "    # Chuyển đổi dữ liệu thành DataFrame và trả về\n",
    "    df = pd.DataFrame(all_data[:max_records], columns=[\"time\", \"open\", \"high\", \"low\", \"close\", \"volume\", \"close_time\", \"quote_asset_volume\", \"number_of_trades\", \"taker_buy_base\", \"taker_buy_quote\", \"ignore\"])\n",
    "    df[\"time\"] = pd.to_datetime(df[\"time\"], unit=\"ms\")\n",
    "    df[\"exchange\"] = \"Binance\"\n",
    "    df[\"pair\"] = symbol  # Thêm thông tin cặp giao dịch\n",
    "    return df[[\"time\", \"open\", \"high\", \"low\", \"close\", \"volume\", \"exchange\", \"pair\"]]\n"
   ],
   "outputs": [],
   "execution_count": 89
  },
  {
   "metadata": {
    "ExecuteTime": {
     "end_time": "2024-11-26T21:02:11.815679Z",
     "start_time": "2024-11-26T21:02:11.806265Z"
    }
   },
   "cell_type": "code",
   "source": [
    "def fetch_coinbase_klines(symbol, interval='1m', limit=1000, max_records=5000):\n",
    "    url = f\"https://api.exchange.coinbase.com/products/{symbol}/candles\"\n",
    "    all_data = []\n",
    "    \n",
    "    while len(all_data) < max_records:\n",
    "        params = {\"granularity\": 60}  # 1 phút = 60 giây\n",
    "        response = requests.get(url, params=params)\n",
    "        data = response.json()\n",
    "        \n",
    "        if not data:\n",
    "            print(f\"No data returned for {symbol}.\")\n",
    "            break\n",
    "        \n",
    "        if isinstance(data, list) and len(data) > 0:\n",
    "            all_data.extend(data)\n",
    "        else:\n",
    "            print(f\"Unexpected data structure for {symbol}: {data}\")\n",
    "            break\n",
    "\n",
    "        time.sleep(0.5)  # Tránh vượt quá giới hạn API\n",
    "\n",
    "    if not all_data:\n",
    "        print(f\"No data collected for {symbol}.\")\n",
    "        return pd.DataFrame()\n",
    "\n",
    "    df = pd.DataFrame(all_data[:max_records], columns=[\"time\", \"low\", \"high\", \"open\", \"close\", \"volume\"])\n",
    "    df[\"time\"] = pd.to_datetime(df[\"time\"], unit=\"s\")\n",
    "    df[\"exchange\"] = \"Coinbase\"\n",
    "    df[\"pair\"] = symbol\n",
    "    return df[[\"time\", \"open\", \"high\", \"low\", \"close\", \"volume\", \"exchange\", \"pair\"]]\n"
   ],
   "id": "6cc3df62611dc3bf",
   "outputs": [],
   "execution_count": 90
  },
  {
   "metadata": {
    "ExecuteTime": {
     "end_time": "2024-11-26T21:02:11.864810Z",
     "start_time": "2024-11-26T21:02:11.853716Z"
    }
   },
   "cell_type": "code",
   "source": [
    "def fetch_kucoin_klines(symbol, interval='1min', limit=1000, max_records=5000):\n",
    "    url = \"https://api.kucoin.com/api/v1/market/candles\"\n",
    "    all_data = []\n",
    "    \n",
    "    while len(all_data) < max_records:\n",
    "        params = {\n",
    "            \"symbol\": symbol,\n",
    "            \"type\": interval  # 1min cho mỗi nến 1 phút\n",
    "        }\n",
    "        response = requests.get(url, params=params)\n",
    "        data = response.json()[\"data\"]\n",
    "        \n",
    "        if not data:\n",
    "            print(f\"No data returned for {symbol}.\")\n",
    "            break\n",
    "        \n",
    "        if isinstance(data, list) and len(data) > 0:\n",
    "            all_data.extend(data)\n",
    "        else:\n",
    "            print(f\"Unexpected data structure for {symbol}: {data}\")\n",
    "            break\n",
    "\n",
    "        time.sleep(0.5)  # Tránh vượt quá giới hạn API\n",
    "\n",
    "    if not all_data:\n",
    "        print(f\"No data collected for {symbol}.\")\n",
    "        return pd.DataFrame()\n",
    "\n",
    "    df = pd.DataFrame(all_data[:max_records], columns=[\"time\", \"open\", \"close\", \"high\", \"low\", \"volume\", \"close_time\"])\n",
    "    # Chuyển đổi cột `time` thành Unix timestamp (nếu chưa phải kiểu số)\n",
    "    if df[\"time\"].dtype == \"object\":  # Nếu `time` là chuỗi\n",
    "        df[\"time\"] = df[\"time\"].astype(float).astype(int)\n",
    "\n",
    "    # Chuyển đổi `time` thành định dạng datetime\n",
    "    df[\"time\"] = pd.to_datetime(df[\"time\"], unit=\"s\")\n",
    "    df[\"exchange\"] = \"KuCoin\"\n",
    "    df[\"pair\"] = symbol\n",
    "    return df[[\"time\", \"open\", \"high\", \"low\", \"close\", \"volume\", \"exchange\", \"pair\"]]\n"
   ],
   "id": "8bb29290489e5bc7",
   "outputs": [],
   "execution_count": 91
  },
  {
   "metadata": {
    "ExecuteTime": {
     "end_time": "2024-11-26T21:02:11.917917Z",
     "start_time": "2024-11-26T21:02:11.905604Z"
    }
   },
   "cell_type": "code",
   "source": [
    "def fetch_kraken_klines(symbol, interval='1', limit=1000, max_records=5000):\n",
    "    url = \"https://api.kraken.com/0/public/OHLC\"\n",
    "    all_data = []\n",
    "    \n",
    "    while len(all_data) < max_records:\n",
    "        params = {\n",
    "            \"pair\": symbol,\n",
    "            \"interval\": interval  # 1 phút = 1\n",
    "        }\n",
    "        response = requests.get(url, params=params)\n",
    "        data = response.json()\n",
    "        # Kiểm tra nếu 'result' có trong dữ liệu trả về\n",
    "        if \"result\" in data and symbol in data[\"result\"]:\n",
    "            data = data[\"result\"][symbol]  # Lấy dữ liệu từ trường 'result'\n",
    "        else:\n",
    "            print(f\"Unexpected data structure or empty result for {symbol}: {data}\")\n",
    "            break\n",
    "        if not data:\n",
    "            print(f\"No data returned for {symbol}.\")\n",
    "            break\n",
    "        if isinstance(data, list) and len(data) > 0:\n",
    "            all_data.extend(data)\n",
    "        else:\n",
    "            print(f\"Unexpected data structure for {symbol}: {data}\")\n",
    "            break\n",
    "        time.sleep(0.5)  # Tránh vượt quá giới hạn API\n",
    "    if not all_data:\n",
    "        print(f\"No data collected for {symbol}.\")\n",
    "        return pd.DataFrame()\n",
    "    df = pd.DataFrame(all_data[:max_records], columns=[\"time\", \"open\", \"high\", \"low\", \"close\", \"volume\", \"close_time\", \"ignore\"])\n",
    "    df[\"time\"] = pd.to_datetime(df[\"time\"], unit=\"s\")\n",
    "    df[\"exchange\"] = \"Kraken\"\n",
    "    df[\"pair\"] = symbol\n",
    "    return df[[\"time\", \"open\", \"high\", \"low\", \"close\", \"volume\", \"exchange\", \"pair\"]]"
   ],
   "id": "e069aebdea17b283",
   "outputs": [],
   "execution_count": 92
  },
  {
   "metadata": {
    "ExecuteTime": {
     "end_time": "2024-11-26T21:07:05.956747Z",
     "start_time": "2024-11-26T21:02:11.959996Z"
    }
   },
   "cell_type": "code",
   "source": [
    "def fetch_data_from_san(symbol, exchange):\n",
    "    # Chọn hàm thu thập dữ liệu phù hợp dựa trên exchange\n",
    "    if exchange == \"Binance\":\n",
    "        return fetch_binance_klines(symbol)\n",
    "    elif exchange == \"Coinbase\":\n",
    "        return fetch_coinbase_klines(symbol)\n",
    "    elif exchange == \"KuCoin\":\n",
    "        return fetch_kucoin_klines(symbol)\n",
    "    elif exchange == \"Kraken\":\n",
    "        return fetch_kraken_klines(symbol)\n",
    "    else:\n",
    "        print(f\"Unknown exchange: {exchange}\")\n",
    "        return pd.DataFrame()\n",
    "    # Thu thập dữ liệu từ tất cả các sàn\n",
    "def collect_and_save_data():\n",
    "    for exchange, pairs in symbol_mapping.items():\n",
    "        for pair in pairs:\n",
    "            print(f\"Fetching data for {pair} from {exchange}...\")\n",
    "            data = fetch_data_from_san(pair, exchange)\n",
    "            data.to_csv(f\"{exchange.lower()}_data_{pair}.csv\", index=False)\n",
    "            print(f\"Data for {pair} from {exchange} saved to {exchange.lower()}_data_{pair}.csv\")\n",
    "\n",
    "# Chạy thu thập và lưu dữ liệu\n",
    "if __name__ == \"__main__\":\n",
    "    collect_and_save_data()"
   ],
   "id": "17b6a198eae84b5e",
   "outputs": [
    {
     "name": "stdout",
     "output_type": "stream",
     "text": [
      "Fetching data for BTCUSDT from Binance...\n",
      "Data for BTCUSDT from Binance saved to binance_data_BTCUSDT.csv\n",
      "Fetching data for ETHUSDT from Binance...\n",
      "Data for ETHUSDT from Binance saved to binance_data_ETHUSDT.csv\n",
      "Fetching data for BNBUSDT from Binance...\n",
      "Data for BNBUSDT from Binance saved to binance_data_BNBUSDT.csv\n",
      "Fetching data for XRPUSDT from Binance...\n",
      "Data for XRPUSDT from Binance saved to binance_data_XRPUSDT.csv\n",
      "Fetching data for ADAUSDT from Binance...\n",
      "Data for ADAUSDT from Binance saved to binance_data_ADAUSDT.csv\n",
      "Fetching data for BTC-USD from Coinbase...\n",
      "Data for BTC-USD from Coinbase saved to coinbase_data_BTC-USD.csv\n",
      "Fetching data for ETH-USD from Coinbase...\n",
      "Data for ETH-USD from Coinbase saved to coinbase_data_ETH-USD.csv\n",
      "Fetching data for LTC-USD from Coinbase...\n",
      "Data for LTC-USD from Coinbase saved to coinbase_data_LTC-USD.csv\n",
      "Fetching data for BCH-USD from Coinbase...\n",
      "Data for BCH-USD from Coinbase saved to coinbase_data_BCH-USD.csv\n",
      "Fetching data for ADA-USD from Coinbase...\n",
      "Data for ADA-USD from Coinbase saved to coinbase_data_ADA-USD.csv\n",
      "Fetching data for BTC-USDT from KuCoin...\n",
      "Data for BTC-USDT from KuCoin saved to kucoin_data_BTC-USDT.csv\n",
      "Fetching data for ETH-USDT from KuCoin...\n",
      "Data for ETH-USDT from KuCoin saved to kucoin_data_ETH-USDT.csv\n",
      "Fetching data for XRP-USDT from KuCoin...\n",
      "Data for XRP-USDT from KuCoin saved to kucoin_data_XRP-USDT.csv\n",
      "Fetching data for BNB-USDT from KuCoin...\n",
      "Data for BNB-USDT from KuCoin saved to kucoin_data_BNB-USDT.csv\n",
      "Fetching data for ADA-USDT from KuCoin...\n",
      "Data for ADA-USDT from KuCoin saved to kucoin_data_ADA-USDT.csv\n",
      "Fetching data for XXBTZUSD from Kraken...\n",
      "Data for XXBTZUSD from Kraken saved to kraken_data_XXBTZUSD.csv\n",
      "Fetching data for XETHZUSD from Kraken...\n",
      "Data for XETHZUSD from Kraken saved to kraken_data_XETHZUSD.csv\n",
      "Fetching data for XXRPZUSD from Kraken...\n",
      "Data for XXRPZUSD from Kraken saved to kraken_data_XXRPZUSD.csv\n",
      "Fetching data for WBTCUSD from Kraken...\n",
      "Data for WBTCUSD from Kraken saved to kraken_data_WBTCUSD.csv\n",
      "Fetching data for ADAUSD from Kraken...\n",
      "Data for ADAUSD from Kraken saved to kraken_data_ADAUSD.csv\n"
     ]
    }
   ],
   "execution_count": 93
  }
 ],
 "metadata": {
  "kernelspec": {
   "display_name": "Python 3",
   "language": "python",
   "name": "python3"
  },
  "language_info": {
   "codemirror_mode": {
    "name": "ipython",
    "version": 2
   },
   "file_extension": ".py",
   "mimetype": "text/x-python",
   "name": "python",
   "nbconvert_exporter": "python",
   "pygments_lexer": "ipython2",
   "version": "2.7.6"
  }
 },
 "nbformat": 4,
 "nbformat_minor": 5
}
